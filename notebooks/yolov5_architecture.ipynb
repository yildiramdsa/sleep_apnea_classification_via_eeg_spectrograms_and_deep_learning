{
  "cells": [
    {
      "cell_type": "code",
      "execution_count": 1,
      "id": "a7c48491",
      "metadata": {
        "id": "a7c48491"
      },
      "outputs": [],
      "source": [
        "import os\n",
        "import torch\n",
        "import torch.nn as nn\n",
        "from torchvision import datasets, transforms\n",
        "from torch.utils.data import DataLoader\n",
        "from torchsummary import summary\n",
        "from sklearn.metrics import precision_score, recall_score, f1_score, classification_report, confusion_matrix"
      ]
    },
    {
      "cell_type": "code",
      "execution_count": 2,
      "id": "E95h45SXShjU",
      "metadata": {
        "colab": {
          "base_uri": "https://localhost:8080/"
        },
        "id": "E95h45SXShjU",
        "outputId": "aafaaabe-498a-496a-a4de-d9e3f40d92f9"
      },
      "outputs": [
        {
          "output_type": "stream",
          "name": "stdout",
          "text": [
            "Drive already mounted at /content/drive; to attempt to forcibly remount, call drive.mount(\"/content/drive\", force_remount=True).\n"
          ]
        }
      ],
      "source": [
        "from google.colab import drive\n",
        "drive.mount('/content/drive')"
      ]
    },
    {
      "cell_type": "code",
      "source": [
        "# Clone yolov5 and install dependencies\n",
        "!git clone https://github.com/ultralytics/yolov5.git\n",
        "%cd yolov5\n",
        "!pip install -qr requirements.txt\n",
        "%cd .."
      ],
      "metadata": {
        "id": "yEL1BhO5NVcL",
        "outputId": "9f80be4c-061c-4944-a26e-30e216d6b091",
        "colab": {
          "base_uri": "https://localhost:8080/"
        }
      },
      "id": "yEL1BhO5NVcL",
      "execution_count": 3,
      "outputs": [
        {
          "output_type": "stream",
          "name": "stdout",
          "text": [
            "fatal: destination path 'yolov5' already exists and is not an empty directory.\n",
            "/content/yolov5\n",
            "/content\n"
          ]
        }
      ]
    },
    {
      "cell_type": "code",
      "source": [
        "import sys\n",
        "sys.path.insert(0, \"/content/yolov5\")"
      ],
      "metadata": {
        "id": "SZNswQxPOOeh"
      },
      "id": "SZNswQxPOOeh",
      "execution_count": 4,
      "outputs": []
    },
    {
      "cell_type": "code",
      "execution_count": 5,
      "id": "0e6bb39b",
      "metadata": {
        "id": "0e6bb39b",
        "outputId": "62b7e8f0-5153-4e81-b51e-c25b790761da",
        "colab": {
          "base_uri": "https://localhost:8080/"
        }
      },
      "outputs": [
        {
          "output_type": "stream",
          "name": "stdout",
          "text": [
            "Using device: cuda\n"
          ]
        }
      ],
      "source": [
        "# Set device (GPU if available)\n",
        "device = torch.device('cuda' if torch.cuda.is_available() else 'cpu')\n",
        "print(f\"Using device: {device}\")"
      ]
    },
    {
      "cell_type": "code",
      "execution_count": 6,
      "id": "97a76923",
      "metadata": {
        "id": "97a76923"
      },
      "outputs": [],
      "source": [
        "# data_dir = \"../data/spectrograms_split\"\n",
        "data_dir = \"/content/drive/MyDrive/spectrograms_split\"\n",
        "train_dir = os.path.join(data_dir, \"train\")\n",
        "val_dir   = os.path.join(data_dir, \"val\")\n",
        "test_dir  = os.path.join(data_dir, \"test\")"
      ]
    },
    {
      "cell_type": "code",
      "source": [
        "# Define transformations (resize → to tensor → normalize with ImageNet stats)\n",
        "transform = transforms.Compose([\n",
        "    transforms.Resize((224, 224)),  # YOLOv5‐cls (like ResNet) expects 224×224 inputs\n",
        "    transforms.ToTensor(),\n",
        "    transforms.Normalize(mean=[0.485, 0.456, 0.406],\n",
        "                         std=[0.229, 0.224, 0.225])\n",
        "])\n",
        "\n",
        "# The transforms.ToTensor() converts a PIL image (0–255 ints) → FloatTensor (0.0–1.0)\n",
        "# and rearranges (H, W, C) → (C, H, W). Normalization uses ImageNet mean/std to match\n",
        "# pretrained YOLOv5s‐cls backbone expectations."
      ],
      "metadata": {
        "id": "BlynGmSGG1n4"
      },
      "id": "BlynGmSGG1n4",
      "execution_count": 7,
      "outputs": []
    },
    {
      "cell_type": "code",
      "source": [
        "# Load train/validation/test datasets via ImageFolder\n",
        "train_dataset = datasets.ImageFolder(train_dir, transform=transform)\n",
        "val_dataset   = datasets.ImageFolder(val_dir,   transform=transform)\n",
        "test_dataset  = datasets.ImageFolder(test_dir,  transform=transform)\n",
        "\n",
        "# This automatically assigns labels based on subfolder names (normal, mild, moderate, severe).\n",
        "# Example: train_dataset.classes == ['moderate', 'mild', 'normal', 'severe']"
      ],
      "metadata": {
        "id": "eex-rkCpJahD"
      },
      "id": "eex-rkCpJahD",
      "execution_count": 8,
      "outputs": []
    },
    {
      "cell_type": "code",
      "source": [
        "# Create DataLoaders (batch_size=32, shuffle during training)\n",
        "train_loader = DataLoader(train_dataset, batch_size=32, shuffle=True,  num_workers=2)\n",
        "val_loader   = DataLoader(val_dataset,   batch_size=32, shuffle=False, num_workers=2)\n",
        "test_loader  = DataLoader(test_dataset,  batch_size=32, shuffle=False, num_workers=2)"
      ],
      "metadata": {
        "id": "70F7HqZJLgAa"
      },
      "id": "70F7HqZJLgAa",
      "execution_count": 9,
      "outputs": []
    },
    {
      "cell_type": "code",
      "source": [
        "# Import & instantiate YOLOv5s‐CLS model\n",
        "# (214 layers, ~7 M parameters). We load the pretrained weights from yolov5/weights.\n",
        "from models.yolo import Model"
      ],
      "metadata": {
        "id": "v7NHCl5CMmJo"
      },
      "id": "v7NHCl5CMmJo",
      "execution_count": 10,
      "outputs": []
    },
    {
      "cell_type": "code",
      "source": [],
      "metadata": {
        "id": "06HmMuNcO6Fw"
      },
      "id": "06HmMuNcO6Fw",
      "execution_count": null,
      "outputs": []
    }
  ],
  "metadata": {
    "accelerator": "GPU",
    "colab": {
      "gpuType": "T4",
      "provenance": []
    },
    "kernelspec": {
      "display_name": "Python 3",
      "name": "python3"
    },
    "language_info": {
      "codemirror_mode": {
        "name": "ipython",
        "version": 3
      },
      "file_extension": ".py",
      "mimetype": "text/x-python",
      "name": "python",
      "nbconvert_exporter": "python",
      "pygments_lexer": "ipython3",
      "version": "3.11.5"
    }
  },
  "nbformat": 4,
  "nbformat_minor": 5
}