{
  "cells": [
    {
      "cell_type": "code",
      "source": [
        "# Mount Google Drive\n",
        "from google.colab import drive\n",
        "drive.mount('/content/drive')"
      ],
      "metadata": {
        "colab": {
          "base_uri": "https://localhost:8080/"
        },
        "id": "GEHiIq14pLUi",
        "outputId": "5903d1d9-a395-498a-9c26-2cf50b531b32"
      },
      "id": "GEHiIq14pLUi",
      "execution_count": null,
      "outputs": [
        {
          "output_type": "stream",
          "name": "stdout",
          "text": [
            "Drive already mounted at /content/drive; to attempt to forcibly remount, call drive.mount(\"/content/drive\", force_remount=True).\n"
          ]
        }
      ]
    },
    {
      "cell_type": "code",
      "source": [
        "# Imports and device setup\n",
        "import torch\n",
        "import torch.nn as nn\n",
        "from torchvision import datasets, transforms\n",
        "from torch.utils.data import DataLoader\n",
        "from torchsummary import summary\n",
        "from sklearn.metrics import precision_score, recall_score, f1_score, classification_report, confusion_matrix\n",
        "from tqdm import tqdm\n",
        "from PIL import Image\n",
        "import random\n",
        "import os\n",
        "\n",
        "device = torch.device('cuda' if torch.cuda.is_available() else 'cpu')\n",
        "print(\"Using device:\", device)"
      ],
      "metadata": {
        "colab": {
          "base_uri": "https://localhost:8080/"
        },
        "id": "J_aK_h23pPfN",
        "outputId": "10f9e767-70f6-4dc9-baad-24fcd187d207"
      },
      "id": "J_aK_h23pPfN",
      "execution_count": null,
      "outputs": [
        {
          "output_type": "stream",
          "name": "stdout",
          "text": [
            "Using device: cuda\n"
          ]
        }
      ]
    },
    {
      "cell_type": "code",
      "source": [
        "# Load pretrained YOLOv5s-CLS v6.1 via torch.hub\n",
        "# This pulls both the architecture and weights for the 214-layer (~7 M parameters) network.\n",
        "hub_model = torch.hub.load(\n",
        "    'ultralytics/yolov5',   # Repository name\n",
        "    'custom',               # “custom” loads a classification checkpoint\n",
        "    path='yolov5s-cls.pt',  # This will fetch v6.1’s official checkpoint\n",
        "    source='github'         # Ensure it pulls from GitHub\n",
        ").to(device)\n",
        "\n",
        "hub_model.eval()\n",
        "print(\"Successfully loaded YOLOv5s-CLS via torch.hub.\")"
      ],
      "metadata": {
        "colab": {
          "base_uri": "https://localhost:8080/"
        },
        "id": "SFW6QXHwpRjV",
        "outputId": "cbb645a0-0518-4805-f8e7-ec9eb70c379c"
      },
      "id": "SFW6QXHwpRjV",
      "execution_count": null,
      "outputs": [
        {
          "output_type": "stream",
          "name": "stderr",
          "text": [
            "Using cache found in /root/.cache/torch/hub/ultralytics_yolov5_master\n",
            "YOLOv5 🚀 2025-6-3 Python-3.11.12 torch-2.6.0+cu124 CUDA:0 (Tesla T4, 15095MiB)\n",
            "\n",
            "Fusing layers... \n",
            "Model summary: 117 layers, 5447688 parameters, 0 gradients, 11.4 GFLOPs\n",
            "WARNING ⚠️ YOLOv5 ClassificationModel is not yet AutoShape compatible. You must pass torch tensors in BCHW to this model, i.e. shape(1,3,224,224).\n"
          ]
        },
        {
          "output_type": "stream",
          "name": "stdout",
          "text": [
            "Successfully loaded YOLOv5s-CLS via torch.hub.\n"
          ]
        }
      ]
    },
    {
      "cell_type": "code",
      "source": [
        "# Inspect the internal Classify block to find the final Linear layer\n",
        "print(hub_model.model)"
      ],
      "metadata": {
        "colab": {
          "base_uri": "https://localhost:8080/"
        },
        "id": "jc_83nWDpkWQ",
        "outputId": "797c8011-d69c-4b1e-9fe9-5936be21e2f8"
      },
      "id": "jc_83nWDpkWQ",
      "execution_count": null,
      "outputs": [
        {
          "output_type": "stream",
          "name": "stdout",
          "text": [
            "ClassificationModel(\n",
            "  (model): Sequential(\n",
            "    (0): Conv(\n",
            "      (conv): Conv2d(3, 32, kernel_size=(6, 6), stride=(2, 2), padding=(2, 2))\n",
            "      (act): SiLU(inplace=True)\n",
            "    )\n",
            "    (1): Conv(\n",
            "      (conv): Conv2d(32, 64, kernel_size=(3, 3), stride=(2, 2), padding=(1, 1))\n",
            "      (act): SiLU(inplace=True)\n",
            "    )\n",
            "    (2): C3(\n",
            "      (cv1): Conv(\n",
            "        (conv): Conv2d(64, 32, kernel_size=(1, 1), stride=(1, 1))\n",
            "        (act): SiLU(inplace=True)\n",
            "      )\n",
            "      (cv2): Conv(\n",
            "        (conv): Conv2d(64, 32, kernel_size=(1, 1), stride=(1, 1))\n",
            "        (act): SiLU(inplace=True)\n",
            "      )\n",
            "      (cv3): Conv(\n",
            "        (conv): Conv2d(64, 64, kernel_size=(1, 1), stride=(1, 1))\n",
            "        (act): SiLU(inplace=True)\n",
            "      )\n",
            "      (m): Sequential(\n",
            "        (0): Bottleneck(\n",
            "          (cv1): Conv(\n",
            "            (conv): Conv2d(32, 32, kernel_size=(1, 1), stride=(1, 1))\n",
            "            (act): SiLU(inplace=True)\n",
            "          )\n",
            "          (cv2): Conv(\n",
            "            (conv): Conv2d(32, 32, kernel_size=(3, 3), stride=(1, 1), padding=(1, 1))\n",
            "            (act): SiLU(inplace=True)\n",
            "          )\n",
            "        )\n",
            "      )\n",
            "    )\n",
            "    (3): Conv(\n",
            "      (conv): Conv2d(64, 128, kernel_size=(3, 3), stride=(2, 2), padding=(1, 1))\n",
            "      (act): SiLU(inplace=True)\n",
            "    )\n",
            "    (4): C3(\n",
            "      (cv1): Conv(\n",
            "        (conv): Conv2d(128, 64, kernel_size=(1, 1), stride=(1, 1))\n",
            "        (act): SiLU(inplace=True)\n",
            "      )\n",
            "      (cv2): Conv(\n",
            "        (conv): Conv2d(128, 64, kernel_size=(1, 1), stride=(1, 1))\n",
            "        (act): SiLU(inplace=True)\n",
            "      )\n",
            "      (cv3): Conv(\n",
            "        (conv): Conv2d(128, 128, kernel_size=(1, 1), stride=(1, 1))\n",
            "        (act): SiLU(inplace=True)\n",
            "      )\n",
            "      (m): Sequential(\n",
            "        (0): Bottleneck(\n",
            "          (cv1): Conv(\n",
            "            (conv): Conv2d(64, 64, kernel_size=(1, 1), stride=(1, 1))\n",
            "            (act): SiLU(inplace=True)\n",
            "          )\n",
            "          (cv2): Conv(\n",
            "            (conv): Conv2d(64, 64, kernel_size=(3, 3), stride=(1, 1), padding=(1, 1))\n",
            "            (act): SiLU(inplace=True)\n",
            "          )\n",
            "        )\n",
            "        (1): Bottleneck(\n",
            "          (cv1): Conv(\n",
            "            (conv): Conv2d(64, 64, kernel_size=(1, 1), stride=(1, 1))\n",
            "            (act): SiLU(inplace=True)\n",
            "          )\n",
            "          (cv2): Conv(\n",
            "            (conv): Conv2d(64, 64, kernel_size=(3, 3), stride=(1, 1), padding=(1, 1))\n",
            "            (act): SiLU(inplace=True)\n",
            "          )\n",
            "        )\n",
            "      )\n",
            "    )\n",
            "    (5): Conv(\n",
            "      (conv): Conv2d(128, 256, kernel_size=(3, 3), stride=(2, 2), padding=(1, 1))\n",
            "      (act): SiLU(inplace=True)\n",
            "    )\n",
            "    (6): C3(\n",
            "      (cv1): Conv(\n",
            "        (conv): Conv2d(256, 128, kernel_size=(1, 1), stride=(1, 1))\n",
            "        (act): SiLU(inplace=True)\n",
            "      )\n",
            "      (cv2): Conv(\n",
            "        (conv): Conv2d(256, 128, kernel_size=(1, 1), stride=(1, 1))\n",
            "        (act): SiLU(inplace=True)\n",
            "      )\n",
            "      (cv3): Conv(\n",
            "        (conv): Conv2d(256, 256, kernel_size=(1, 1), stride=(1, 1))\n",
            "        (act): SiLU(inplace=True)\n",
            "      )\n",
            "      (m): Sequential(\n",
            "        (0): Bottleneck(\n",
            "          (cv1): Conv(\n",
            "            (conv): Conv2d(128, 128, kernel_size=(1, 1), stride=(1, 1))\n",
            "            (act): SiLU(inplace=True)\n",
            "          )\n",
            "          (cv2): Conv(\n",
            "            (conv): Conv2d(128, 128, kernel_size=(3, 3), stride=(1, 1), padding=(1, 1))\n",
            "            (act): SiLU(inplace=True)\n",
            "          )\n",
            "        )\n",
            "        (1): Bottleneck(\n",
            "          (cv1): Conv(\n",
            "            (conv): Conv2d(128, 128, kernel_size=(1, 1), stride=(1, 1))\n",
            "            (act): SiLU(inplace=True)\n",
            "          )\n",
            "          (cv2): Conv(\n",
            "            (conv): Conv2d(128, 128, kernel_size=(3, 3), stride=(1, 1), padding=(1, 1))\n",
            "            (act): SiLU(inplace=True)\n",
            "          )\n",
            "        )\n",
            "        (2): Bottleneck(\n",
            "          (cv1): Conv(\n",
            "            (conv): Conv2d(128, 128, kernel_size=(1, 1), stride=(1, 1))\n",
            "            (act): SiLU(inplace=True)\n",
            "          )\n",
            "          (cv2): Conv(\n",
            "            (conv): Conv2d(128, 128, kernel_size=(3, 3), stride=(1, 1), padding=(1, 1))\n",
            "            (act): SiLU(inplace=True)\n",
            "          )\n",
            "        )\n",
            "      )\n",
            "    )\n",
            "    (7): Conv(\n",
            "      (conv): Conv2d(256, 512, kernel_size=(3, 3), stride=(2, 2), padding=(1, 1))\n",
            "      (act): SiLU(inplace=True)\n",
            "    )\n",
            "    (8): C3(\n",
            "      (cv1): Conv(\n",
            "        (conv): Conv2d(512, 256, kernel_size=(1, 1), stride=(1, 1))\n",
            "        (act): SiLU(inplace=True)\n",
            "      )\n",
            "      (cv2): Conv(\n",
            "        (conv): Conv2d(512, 256, kernel_size=(1, 1), stride=(1, 1))\n",
            "        (act): SiLU(inplace=True)\n",
            "      )\n",
            "      (cv3): Conv(\n",
            "        (conv): Conv2d(512, 512, kernel_size=(1, 1), stride=(1, 1))\n",
            "        (act): SiLU(inplace=True)\n",
            "      )\n",
            "      (m): Sequential(\n",
            "        (0): Bottleneck(\n",
            "          (cv1): Conv(\n",
            "            (conv): Conv2d(256, 256, kernel_size=(1, 1), stride=(1, 1))\n",
            "            (act): SiLU(inplace=True)\n",
            "          )\n",
            "          (cv2): Conv(\n",
            "            (conv): Conv2d(256, 256, kernel_size=(3, 3), stride=(1, 1), padding=(1, 1))\n",
            "            (act): SiLU(inplace=True)\n",
            "          )\n",
            "        )\n",
            "      )\n",
            "    )\n",
            "    (9): Classify(\n",
            "      (conv): Conv(\n",
            "        (conv): Conv2d(512, 1280, kernel_size=(1, 1), stride=(1, 1))\n",
            "        (act): SiLU(inplace=True)\n",
            "      )\n",
            "      (pool): AdaptiveAvgPool2d(output_size=1)\n",
            "      (drop): Dropout(p=0.0, inplace=True)\n",
            "      (linear): Linear(in_features=1280, out_features=1000, bias=True)\n",
            "    )\n",
            "  )\n",
            ")\n"
          ]
        }
      ]
    },
    {
      "cell_type": "code",
      "source": [
        "# Replace the final “Linear(in_features=1280, out_features=1000)” with “Linear(1280 → 4)”\n",
        "classify_block = hub_model.model.model[-1]  # This is the Classify(...) module\n",
        "in_features = classify_block.linear.in_features\n",
        "print(f\"Replacing final linear: in_features = {in_features}, out_features = 4\")\n",
        "classify_block.linear = nn.Linear(in_features, 4)\n",
        "hub_model.to(device)"
      ],
      "metadata": {
        "colab": {
          "base_uri": "https://localhost:8080/"
        },
        "id": "cyoG3QQ4pxDb",
        "outputId": "07b6b624-ae36-4003-e626-4cc089164073"
      },
      "id": "cyoG3QQ4pxDb",
      "execution_count": null,
      "outputs": [
        {
          "output_type": "stream",
          "name": "stdout",
          "text": [
            "Replacing final linear: in_features = 1280, out_features = 4\n"
          ]
        },
        {
          "output_type": "execute_result",
          "data": {
            "text/plain": [
              "DetectMultiBackend(\n",
              "  (model): ClassificationModel(\n",
              "    (model): Sequential(\n",
              "      (0): Conv(\n",
              "        (conv): Conv2d(3, 32, kernel_size=(6, 6), stride=(2, 2), padding=(2, 2))\n",
              "        (act): SiLU(inplace=True)\n",
              "      )\n",
              "      (1): Conv(\n",
              "        (conv): Conv2d(32, 64, kernel_size=(3, 3), stride=(2, 2), padding=(1, 1))\n",
              "        (act): SiLU(inplace=True)\n",
              "      )\n",
              "      (2): C3(\n",
              "        (cv1): Conv(\n",
              "          (conv): Conv2d(64, 32, kernel_size=(1, 1), stride=(1, 1))\n",
              "          (act): SiLU(inplace=True)\n",
              "        )\n",
              "        (cv2): Conv(\n",
              "          (conv): Conv2d(64, 32, kernel_size=(1, 1), stride=(1, 1))\n",
              "          (act): SiLU(inplace=True)\n",
              "        )\n",
              "        (cv3): Conv(\n",
              "          (conv): Conv2d(64, 64, kernel_size=(1, 1), stride=(1, 1))\n",
              "          (act): SiLU(inplace=True)\n",
              "        )\n",
              "        (m): Sequential(\n",
              "          (0): Bottleneck(\n",
              "            (cv1): Conv(\n",
              "              (conv): Conv2d(32, 32, kernel_size=(1, 1), stride=(1, 1))\n",
              "              (act): SiLU(inplace=True)\n",
              "            )\n",
              "            (cv2): Conv(\n",
              "              (conv): Conv2d(32, 32, kernel_size=(3, 3), stride=(1, 1), padding=(1, 1))\n",
              "              (act): SiLU(inplace=True)\n",
              "            )\n",
              "          )\n",
              "        )\n",
              "      )\n",
              "      (3): Conv(\n",
              "        (conv): Conv2d(64, 128, kernel_size=(3, 3), stride=(2, 2), padding=(1, 1))\n",
              "        (act): SiLU(inplace=True)\n",
              "      )\n",
              "      (4): C3(\n",
              "        (cv1): Conv(\n",
              "          (conv): Conv2d(128, 64, kernel_size=(1, 1), stride=(1, 1))\n",
              "          (act): SiLU(inplace=True)\n",
              "        )\n",
              "        (cv2): Conv(\n",
              "          (conv): Conv2d(128, 64, kernel_size=(1, 1), stride=(1, 1))\n",
              "          (act): SiLU(inplace=True)\n",
              "        )\n",
              "        (cv3): Conv(\n",
              "          (conv): Conv2d(128, 128, kernel_size=(1, 1), stride=(1, 1))\n",
              "          (act): SiLU(inplace=True)\n",
              "        )\n",
              "        (m): Sequential(\n",
              "          (0): Bottleneck(\n",
              "            (cv1): Conv(\n",
              "              (conv): Conv2d(64, 64, kernel_size=(1, 1), stride=(1, 1))\n",
              "              (act): SiLU(inplace=True)\n",
              "            )\n",
              "            (cv2): Conv(\n",
              "              (conv): Conv2d(64, 64, kernel_size=(3, 3), stride=(1, 1), padding=(1, 1))\n",
              "              (act): SiLU(inplace=True)\n",
              "            )\n",
              "          )\n",
              "          (1): Bottleneck(\n",
              "            (cv1): Conv(\n",
              "              (conv): Conv2d(64, 64, kernel_size=(1, 1), stride=(1, 1))\n",
              "              (act): SiLU(inplace=True)\n",
              "            )\n",
              "            (cv2): Conv(\n",
              "              (conv): Conv2d(64, 64, kernel_size=(3, 3), stride=(1, 1), padding=(1, 1))\n",
              "              (act): SiLU(inplace=True)\n",
              "            )\n",
              "          )\n",
              "        )\n",
              "      )\n",
              "      (5): Conv(\n",
              "        (conv): Conv2d(128, 256, kernel_size=(3, 3), stride=(2, 2), padding=(1, 1))\n",
              "        (act): SiLU(inplace=True)\n",
              "      )\n",
              "      (6): C3(\n",
              "        (cv1): Conv(\n",
              "          (conv): Conv2d(256, 128, kernel_size=(1, 1), stride=(1, 1))\n",
              "          (act): SiLU(inplace=True)\n",
              "        )\n",
              "        (cv2): Conv(\n",
              "          (conv): Conv2d(256, 128, kernel_size=(1, 1), stride=(1, 1))\n",
              "          (act): SiLU(inplace=True)\n",
              "        )\n",
              "        (cv3): Conv(\n",
              "          (conv): Conv2d(256, 256, kernel_size=(1, 1), stride=(1, 1))\n",
              "          (act): SiLU(inplace=True)\n",
              "        )\n",
              "        (m): Sequential(\n",
              "          (0): Bottleneck(\n",
              "            (cv1): Conv(\n",
              "              (conv): Conv2d(128, 128, kernel_size=(1, 1), stride=(1, 1))\n",
              "              (act): SiLU(inplace=True)\n",
              "            )\n",
              "            (cv2): Conv(\n",
              "              (conv): Conv2d(128, 128, kernel_size=(3, 3), stride=(1, 1), padding=(1, 1))\n",
              "              (act): SiLU(inplace=True)\n",
              "            )\n",
              "          )\n",
              "          (1): Bottleneck(\n",
              "            (cv1): Conv(\n",
              "              (conv): Conv2d(128, 128, kernel_size=(1, 1), stride=(1, 1))\n",
              "              (act): SiLU(inplace=True)\n",
              "            )\n",
              "            (cv2): Conv(\n",
              "              (conv): Conv2d(128, 128, kernel_size=(3, 3), stride=(1, 1), padding=(1, 1))\n",
              "              (act): SiLU(inplace=True)\n",
              "            )\n",
              "          )\n",
              "          (2): Bottleneck(\n",
              "            (cv1): Conv(\n",
              "              (conv): Conv2d(128, 128, kernel_size=(1, 1), stride=(1, 1))\n",
              "              (act): SiLU(inplace=True)\n",
              "            )\n",
              "            (cv2): Conv(\n",
              "              (conv): Conv2d(128, 128, kernel_size=(3, 3), stride=(1, 1), padding=(1, 1))\n",
              "              (act): SiLU(inplace=True)\n",
              "            )\n",
              "          )\n",
              "        )\n",
              "      )\n",
              "      (7): Conv(\n",
              "        (conv): Conv2d(256, 512, kernel_size=(3, 3), stride=(2, 2), padding=(1, 1))\n",
              "        (act): SiLU(inplace=True)\n",
              "      )\n",
              "      (8): C3(\n",
              "        (cv1): Conv(\n",
              "          (conv): Conv2d(512, 256, kernel_size=(1, 1), stride=(1, 1))\n",
              "          (act): SiLU(inplace=True)\n",
              "        )\n",
              "        (cv2): Conv(\n",
              "          (conv): Conv2d(512, 256, kernel_size=(1, 1), stride=(1, 1))\n",
              "          (act): SiLU(inplace=True)\n",
              "        )\n",
              "        (cv3): Conv(\n",
              "          (conv): Conv2d(512, 512, kernel_size=(1, 1), stride=(1, 1))\n",
              "          (act): SiLU(inplace=True)\n",
              "        )\n",
              "        (m): Sequential(\n",
              "          (0): Bottleneck(\n",
              "            (cv1): Conv(\n",
              "              (conv): Conv2d(256, 256, kernel_size=(1, 1), stride=(1, 1))\n",
              "              (act): SiLU(inplace=True)\n",
              "            )\n",
              "            (cv2): Conv(\n",
              "              (conv): Conv2d(256, 256, kernel_size=(3, 3), stride=(1, 1), padding=(1, 1))\n",
              "              (act): SiLU(inplace=True)\n",
              "            )\n",
              "          )\n",
              "        )\n",
              "      )\n",
              "      (9): Classify(\n",
              "        (conv): Conv(\n",
              "          (conv): Conv2d(512, 1280, kernel_size=(1, 1), stride=(1, 1))\n",
              "          (act): SiLU(inplace=True)\n",
              "        )\n",
              "        (pool): AdaptiveAvgPool2d(output_size=1)\n",
              "        (drop): Dropout(p=0.0, inplace=True)\n",
              "        (linear): Linear(in_features=1280, out_features=4, bias=True)\n",
              "      )\n",
              "    )\n",
              "  )\n",
              ")"
            ]
          },
          "metadata": {},
          "execution_count": 5
        }
      ]
    },
    {
      "cell_type": "code",
      "source": [
        "# Display a summary to confirm ~ 7 M parameters and final head output = 4\n",
        "summary(hub_model.model, input_size=(3, 224, 224))"
      ],
      "metadata": {
        "colab": {
          "base_uri": "https://localhost:8080/"
        },
        "id": "1Z-eapB5p9Qd",
        "outputId": "6730a40d-e6d9-4c4a-b53d-489d74ca9776"
      },
      "id": "1Z-eapB5p9Qd",
      "execution_count": null,
      "outputs": [
        {
          "output_type": "stream",
          "name": "stdout",
          "text": [
            "----------------------------------------------------------------\n",
            "        Layer (type)               Output Shape         Param #\n",
            "================================================================\n",
            "            Conv2d-1         [-1, 32, 112, 112]           3,488\n",
            "              SiLU-2         [-1, 32, 112, 112]               0\n",
            "              Conv-3         [-1, 32, 112, 112]               0\n",
            "            Conv2d-4           [-1, 64, 56, 56]          18,496\n",
            "              SiLU-5           [-1, 64, 56, 56]               0\n",
            "              Conv-6           [-1, 64, 56, 56]               0\n",
            "            Conv2d-7           [-1, 32, 56, 56]           2,080\n",
            "              SiLU-8           [-1, 32, 56, 56]               0\n",
            "              Conv-9           [-1, 32, 56, 56]               0\n",
            "           Conv2d-10           [-1, 32, 56, 56]           1,056\n",
            "             SiLU-11           [-1, 32, 56, 56]               0\n",
            "             Conv-12           [-1, 32, 56, 56]               0\n",
            "           Conv2d-13           [-1, 32, 56, 56]           9,248\n",
            "             SiLU-14           [-1, 32, 56, 56]               0\n",
            "             Conv-15           [-1, 32, 56, 56]               0\n",
            "       Bottleneck-16           [-1, 32, 56, 56]               0\n",
            "           Conv2d-17           [-1, 32, 56, 56]           2,080\n",
            "             SiLU-18           [-1, 32, 56, 56]               0\n",
            "             Conv-19           [-1, 32, 56, 56]               0\n",
            "           Conv2d-20           [-1, 64, 56, 56]           4,160\n",
            "             SiLU-21           [-1, 64, 56, 56]               0\n",
            "             Conv-22           [-1, 64, 56, 56]               0\n",
            "               C3-23           [-1, 64, 56, 56]               0\n",
            "           Conv2d-24          [-1, 128, 28, 28]          73,856\n",
            "             SiLU-25          [-1, 128, 28, 28]               0\n",
            "             Conv-26          [-1, 128, 28, 28]               0\n",
            "           Conv2d-27           [-1, 64, 28, 28]           8,256\n",
            "             SiLU-28           [-1, 64, 28, 28]               0\n",
            "             Conv-29           [-1, 64, 28, 28]               0\n",
            "           Conv2d-30           [-1, 64, 28, 28]           4,160\n",
            "             SiLU-31           [-1, 64, 28, 28]               0\n",
            "             Conv-32           [-1, 64, 28, 28]               0\n",
            "           Conv2d-33           [-1, 64, 28, 28]          36,928\n",
            "             SiLU-34           [-1, 64, 28, 28]               0\n",
            "             Conv-35           [-1, 64, 28, 28]               0\n",
            "       Bottleneck-36           [-1, 64, 28, 28]               0\n",
            "           Conv2d-37           [-1, 64, 28, 28]           4,160\n",
            "             SiLU-38           [-1, 64, 28, 28]               0\n",
            "             Conv-39           [-1, 64, 28, 28]               0\n",
            "           Conv2d-40           [-1, 64, 28, 28]          36,928\n",
            "             SiLU-41           [-1, 64, 28, 28]               0\n",
            "             Conv-42           [-1, 64, 28, 28]               0\n",
            "       Bottleneck-43           [-1, 64, 28, 28]               0\n",
            "           Conv2d-44           [-1, 64, 28, 28]           8,256\n",
            "             SiLU-45           [-1, 64, 28, 28]               0\n",
            "             Conv-46           [-1, 64, 28, 28]               0\n",
            "           Conv2d-47          [-1, 128, 28, 28]          16,512\n",
            "             SiLU-48          [-1, 128, 28, 28]               0\n",
            "             Conv-49          [-1, 128, 28, 28]               0\n",
            "               C3-50          [-1, 128, 28, 28]               0\n",
            "           Conv2d-51          [-1, 256, 14, 14]         295,168\n",
            "             SiLU-52          [-1, 256, 14, 14]               0\n",
            "             Conv-53          [-1, 256, 14, 14]               0\n",
            "           Conv2d-54          [-1, 128, 14, 14]          32,896\n",
            "             SiLU-55          [-1, 128, 14, 14]               0\n",
            "             Conv-56          [-1, 128, 14, 14]               0\n",
            "           Conv2d-57          [-1, 128, 14, 14]          16,512\n",
            "             SiLU-58          [-1, 128, 14, 14]               0\n",
            "             Conv-59          [-1, 128, 14, 14]               0\n",
            "           Conv2d-60          [-1, 128, 14, 14]         147,584\n",
            "             SiLU-61          [-1, 128, 14, 14]               0\n",
            "             Conv-62          [-1, 128, 14, 14]               0\n",
            "       Bottleneck-63          [-1, 128, 14, 14]               0\n",
            "           Conv2d-64          [-1, 128, 14, 14]          16,512\n",
            "             SiLU-65          [-1, 128, 14, 14]               0\n",
            "             Conv-66          [-1, 128, 14, 14]               0\n",
            "           Conv2d-67          [-1, 128, 14, 14]         147,584\n",
            "             SiLU-68          [-1, 128, 14, 14]               0\n",
            "             Conv-69          [-1, 128, 14, 14]               0\n",
            "       Bottleneck-70          [-1, 128, 14, 14]               0\n",
            "           Conv2d-71          [-1, 128, 14, 14]          16,512\n",
            "             SiLU-72          [-1, 128, 14, 14]               0\n",
            "             Conv-73          [-1, 128, 14, 14]               0\n",
            "           Conv2d-74          [-1, 128, 14, 14]         147,584\n",
            "             SiLU-75          [-1, 128, 14, 14]               0\n",
            "             Conv-76          [-1, 128, 14, 14]               0\n",
            "       Bottleneck-77          [-1, 128, 14, 14]               0\n",
            "           Conv2d-78          [-1, 128, 14, 14]          32,896\n",
            "             SiLU-79          [-1, 128, 14, 14]               0\n",
            "             Conv-80          [-1, 128, 14, 14]               0\n",
            "           Conv2d-81          [-1, 256, 14, 14]          65,792\n",
            "             SiLU-82          [-1, 256, 14, 14]               0\n",
            "             Conv-83          [-1, 256, 14, 14]               0\n",
            "               C3-84          [-1, 256, 14, 14]               0\n",
            "           Conv2d-85            [-1, 512, 7, 7]       1,180,160\n",
            "             SiLU-86            [-1, 512, 7, 7]               0\n",
            "             Conv-87            [-1, 512, 7, 7]               0\n",
            "           Conv2d-88            [-1, 256, 7, 7]         131,328\n",
            "             SiLU-89            [-1, 256, 7, 7]               0\n",
            "             Conv-90            [-1, 256, 7, 7]               0\n",
            "           Conv2d-91            [-1, 256, 7, 7]          65,792\n",
            "             SiLU-92            [-1, 256, 7, 7]               0\n",
            "             Conv-93            [-1, 256, 7, 7]               0\n",
            "           Conv2d-94            [-1, 256, 7, 7]         590,080\n",
            "             SiLU-95            [-1, 256, 7, 7]               0\n",
            "             Conv-96            [-1, 256, 7, 7]               0\n",
            "       Bottleneck-97            [-1, 256, 7, 7]               0\n",
            "           Conv2d-98            [-1, 256, 7, 7]         131,328\n",
            "             SiLU-99            [-1, 256, 7, 7]               0\n",
            "            Conv-100            [-1, 256, 7, 7]               0\n",
            "          Conv2d-101            [-1, 512, 7, 7]         262,656\n",
            "            SiLU-102            [-1, 512, 7, 7]               0\n",
            "            Conv-103            [-1, 512, 7, 7]               0\n",
            "              C3-104            [-1, 512, 7, 7]               0\n",
            "          Conv2d-105           [-1, 1280, 7, 7]         656,640\n",
            "            SiLU-106           [-1, 1280, 7, 7]               0\n",
            "            Conv-107           [-1, 1280, 7, 7]               0\n",
            "AdaptiveAvgPool2d-108           [-1, 1280, 1, 1]               0\n",
            "         Dropout-109                 [-1, 1280]               0\n",
            "          Linear-110                    [-1, 4]           5,124\n",
            "        Classify-111                    [-1, 4]               0\n",
            "================================================================\n",
            "Total params: 4,171,812\n",
            "Trainable params: 5,124\n",
            "Non-trainable params: 4,166,688\n",
            "----------------------------------------------------------------\n",
            "Input size (MB): 0.57\n",
            "Forward/backward pass size (MB): 54.76\n",
            "Params size (MB): 15.91\n",
            "Estimated Total Size (MB): 71.25\n",
            "----------------------------------------------------------------\n"
          ]
        }
      ]
    },
    {
      "cell_type": "code",
      "source": [
        "# Data paths and transforms\n",
        "data_dir  = \"/content/drive/MyDrive/spectrograms_split\"\n",
        "train_dir = os.path.join(data_dir, \"train\")\n",
        "val_dir   = os.path.join(data_dir, \"val\")\n",
        "test_dir  = os.path.join(data_dir, \"test\")\n",
        "balanced_test_dir = os.path.join(data_dir, \"test_balanced\")\n",
        "\n",
        "for path in [train_dir, val_dir, test_dir, balanced_test_dir]:\n",
        "    assert os.path.isdir(path), f\"Directory not found: {path}\""
      ],
      "metadata": {
        "id": "xRQ8wEmRqghx"
      },
      "id": "xRQ8wEmRqghx",
      "execution_count": null,
      "outputs": []
    },
    {
      "cell_type": "code",
      "source": [
        "transform = transforms.Compose([\n",
        "    transforms.Resize((224, 224)),  # Required by YOLOv5s-CLS backbone\n",
        "    transforms.ToTensor(),\n",
        "    transforms.Normalize(\n",
        "        mean=[0.485, 0.456, 0.406],\n",
        "        std =[0.229, 0.224, 0.225]\n",
        "    )\n",
        "])"
      ],
      "metadata": {
        "id": "FYU1AjUMq42m"
      },
      "id": "FYU1AjUMq42m",
      "execution_count": null,
      "outputs": []
    },
    {
      "cell_type": "code",
      "source": [
        "train_dataset = datasets.ImageFolder(train_dir, transform=transform)\n",
        "val_dataset   = datasets.ImageFolder(val_dir,   transform=transform)\n",
        "test_dataset  = datasets.ImageFolder(test_dir,  transform=transform)\n",
        "balanced_dataset  = datasets.ImageFolder(balanced_test_dir, transform=transform)\n",
        "\n",
        "print(\"Classes:\", train_dataset.classes)  # ['mild','moderate','normal','severe']\n",
        "num_classes = len(train_dataset.classes)"
      ],
      "metadata": {
        "colab": {
          "base_uri": "https://localhost:8080/"
        },
        "id": "I1cMg94Qq7Ab",
        "outputId": "b3891c21-7f98-4a88-d1f9-a1c788e7e685"
      },
      "id": "I1cMg94Qq7Ab",
      "execution_count": null,
      "outputs": [
        {
          "output_type": "stream",
          "name": "stdout",
          "text": [
            "Classes: ['mild', 'moderate', 'normal', 'severe']\n"
          ]
        }
      ]
    },
    {
      "cell_type": "code",
      "source": [
        "train_loader = DataLoader(train_dataset, batch_size=32, shuffle=True,  num_workers=2)\n",
        "val_loader   = DataLoader(val_dataset,   batch_size=32, shuffle=False, num_workers=2)\n",
        "test_loader  = DataLoader(test_dataset,  batch_size=32, shuffle=False, num_workers=2)\n",
        "balanced_loader  = DataLoader(balanced_dataset,  batch_size=32, shuffle=False, num_workers=2)"
      ],
      "metadata": {
        "id": "DO_HzL0_rQ6S"
      },
      "id": "DO_HzL0_rQ6S",
      "execution_count": null,
      "outputs": []
    },
    {
      "cell_type": "code",
      "source": [
        "# Ensure all parameters are trainable\n",
        "model = hub_model\n",
        "for param in model.parameters():\n",
        "    param.requires_grad = True"
      ],
      "metadata": {
        "id": "8A_RoYVErTit"
      },
      "id": "8A_RoYVErTit",
      "execution_count": null,
      "outputs": []
    },
    {
      "cell_type": "code",
      "source": [
        "# Set up loss, optimizer, and scheduler\n",
        "criterion    = nn.CrossEntropyLoss()\n",
        "optimizer    = torch.optim.Adam(model.parameters(), lr=1e-4)\n",
        "lr_scheduler = torch.optim.lr_scheduler.StepLR(optimizer, step_size=10, gamma=0.1)"
      ],
      "metadata": {
        "id": "z1bnm8A3rY7F"
      },
      "id": "z1bnm8A3rY7F",
      "execution_count": null,
      "outputs": []
    },
    {
      "cell_type": "code",
      "source": [
        "# Train + validate for 20 epochs\n",
        "num_epochs = 20\n",
        "for epoch in range(num_epochs):\n",
        "    # Train phase\n",
        "    model.train()\n",
        "    running_loss = 0.0\n",
        "    for imgs, labels in tqdm(train_loader, desc=f\"Epoch {epoch+1}/{num_epochs} [train]\"):\n",
        "        imgs, labels = imgs.to(device), labels.to(device)\n",
        "        outputs = model(imgs)  # Shape: (batch_size, 4)\n",
        "        loss = criterion(outputs, labels)\n",
        "        optimizer.zero_grad()\n",
        "        loss.backward()\n",
        "        optimizer.step()\n",
        "        running_loss += loss.item()\n",
        "    avg_train_loss = running_loss / len(train_loader)\n",
        "    print(f\"Epoch {epoch+1:2d} train loss: {avg_train_loss:.4f}\")\n",
        "    lr_scheduler.step()\n",
        "\n",
        "    # Validation phase\n",
        "    model.eval()\n",
        "    val_loss = 0.0\n",
        "    correct_val = 0\n",
        "    total_val = 0\n",
        "    with torch.no_grad():\n",
        "        for imgs, labels in tqdm(val_loader, desc=f\"Epoch {epoch+1}/{num_epochs} [val]\"):\n",
        "            imgs, labels = imgs.to(device), labels.to(device)\n",
        "            outputs = model(imgs)\n",
        "            loss = criterion(outputs, labels)\n",
        "            val_loss += loss.item()\n",
        "            _, preds = torch.max(outputs, dim=1)\n",
        "            correct_val += (preds == labels).sum().item()\n",
        "            total_val += labels.size(0)\n",
        "    avg_val_loss = val_loss / len(val_loader)\n",
        "    val_acc = 100.0 * correct_val / total_val\n",
        "    print(f\"Epoch {epoch+1:2d} val loss: {avg_val_loss:.4f} | val acc: {val_acc:.2f}%\\n\")\n",
        "\n",
        "print(\"Training complete.\")"
      ],
      "metadata": {
        "colab": {
          "base_uri": "https://localhost:8080/"
        },
        "id": "XrSxKX_0r3PM",
        "outputId": "113f8b34-1a40-4c5c-8e21-97ebf953a137"
      },
      "id": "XrSxKX_0r3PM",
      "execution_count": null,
      "outputs": [
        {
          "output_type": "stream",
          "name": "stderr",
          "text": [
            "Epoch 1/20 [train]: 100%|██████████| 453/453 [38:34<00:00,  5.11s/it]\n"
          ]
        },
        {
          "output_type": "stream",
          "name": "stdout",
          "text": [
            "Epoch  1 train loss: 1.1415\n"
          ]
        },
        {
          "output_type": "stream",
          "name": "stderr",
          "text": [
            "Epoch 1/20 [val]: 100%|██████████| 97/97 [08:17<00:00,  5.12s/it]\n"
          ]
        },
        {
          "output_type": "stream",
          "name": "stdout",
          "text": [
            "Epoch  1 val loss: 0.9157 | val acc: 58.95%\n",
            "\n"
          ]
        },
        {
          "output_type": "stream",
          "name": "stderr",
          "text": [
            "Epoch 2/20 [train]: 100%|██████████| 453/453 [03:41<00:00,  2.05it/s]\n"
          ]
        },
        {
          "output_type": "stream",
          "name": "stdout",
          "text": [
            "Epoch  2 train loss: 0.7735\n"
          ]
        },
        {
          "output_type": "stream",
          "name": "stderr",
          "text": [
            "Epoch 2/20 [val]: 100%|██████████| 97/97 [00:45<00:00,  2.13it/s]\n"
          ]
        },
        {
          "output_type": "stream",
          "name": "stdout",
          "text": [
            "Epoch  2 val loss: 0.6470 | val acc: 72.98%\n",
            "\n"
          ]
        },
        {
          "output_type": "stream",
          "name": "stderr",
          "text": [
            "Epoch 3/20 [train]: 100%|██████████| 453/453 [03:43<00:00,  2.03it/s]\n"
          ]
        },
        {
          "output_type": "stream",
          "name": "stdout",
          "text": [
            "Epoch  3 train loss: 0.5226\n"
          ]
        },
        {
          "output_type": "stream",
          "name": "stderr",
          "text": [
            "Epoch 3/20 [val]: 100%|██████████| 97/97 [00:46<00:00,  2.08it/s]\n"
          ]
        },
        {
          "output_type": "stream",
          "name": "stdout",
          "text": [
            "Epoch  3 val loss: 0.4518 | val acc: 82.52%\n",
            "\n"
          ]
        },
        {
          "output_type": "stream",
          "name": "stderr",
          "text": [
            "Epoch 4/20 [train]: 100%|██████████| 453/453 [03:44<00:00,  2.02it/s]\n"
          ]
        },
        {
          "output_type": "stream",
          "name": "stdout",
          "text": [
            "Epoch  4 train loss: 0.3552\n"
          ]
        },
        {
          "output_type": "stream",
          "name": "stderr",
          "text": [
            "Epoch 4/20 [val]: 100%|██████████| 97/97 [00:45<00:00,  2.15it/s]\n"
          ]
        },
        {
          "output_type": "stream",
          "name": "stdout",
          "text": [
            "Epoch  4 val loss: 0.3688 | val acc: 84.55%\n",
            "\n"
          ]
        },
        {
          "output_type": "stream",
          "name": "stderr",
          "text": [
            "Epoch 5/20 [train]: 100%|██████████| 453/453 [03:40<00:00,  2.06it/s]\n"
          ]
        },
        {
          "output_type": "stream",
          "name": "stdout",
          "text": [
            "Epoch  5 train loss: 0.2684\n"
          ]
        },
        {
          "output_type": "stream",
          "name": "stderr",
          "text": [
            "Epoch 5/20 [val]: 100%|██████████| 97/97 [00:46<00:00,  2.08it/s]\n"
          ]
        },
        {
          "output_type": "stream",
          "name": "stdout",
          "text": [
            "Epoch  5 val loss: 0.4090 | val acc: 85.10%\n",
            "\n"
          ]
        },
        {
          "output_type": "stream",
          "name": "stderr",
          "text": [
            "Epoch 6/20 [train]: 100%|██████████| 453/453 [03:41<00:00,  2.05it/s]\n"
          ]
        },
        {
          "output_type": "stream",
          "name": "stdout",
          "text": [
            "Epoch  6 train loss: 0.1987\n"
          ]
        },
        {
          "output_type": "stream",
          "name": "stderr",
          "text": [
            "Epoch 6/20 [val]: 100%|██████████| 97/97 [00:45<00:00,  2.13it/s]\n"
          ]
        },
        {
          "output_type": "stream",
          "name": "stdout",
          "text": [
            "Epoch  6 val loss: 0.3331 | val acc: 86.71%\n",
            "\n"
          ]
        },
        {
          "output_type": "stream",
          "name": "stderr",
          "text": [
            "Epoch 7/20 [train]: 100%|██████████| 453/453 [03:40<00:00,  2.05it/s]\n"
          ]
        },
        {
          "output_type": "stream",
          "name": "stdout",
          "text": [
            "Epoch  7 train loss: 0.1503\n"
          ]
        },
        {
          "output_type": "stream",
          "name": "stderr",
          "text": [
            "Epoch 7/20 [val]: 100%|██████████| 97/97 [00:46<00:00,  2.08it/s]\n"
          ]
        },
        {
          "output_type": "stream",
          "name": "stdout",
          "text": [
            "Epoch  7 val loss: 0.3392 | val acc: 87.33%\n",
            "\n"
          ]
        },
        {
          "output_type": "stream",
          "name": "stderr",
          "text": [
            "Epoch 8/20 [train]: 100%|██████████| 453/453 [03:41<00:00,  2.05it/s]\n"
          ]
        },
        {
          "output_type": "stream",
          "name": "stdout",
          "text": [
            "Epoch  8 train loss: 0.1032\n"
          ]
        },
        {
          "output_type": "stream",
          "name": "stderr",
          "text": [
            "Epoch 8/20 [val]: 100%|██████████| 97/97 [00:45<00:00,  2.12it/s]\n"
          ]
        },
        {
          "output_type": "stream",
          "name": "stdout",
          "text": [
            "Epoch  8 val loss: 0.3483 | val acc: 87.94%\n",
            "\n"
          ]
        },
        {
          "output_type": "stream",
          "name": "stderr",
          "text": [
            "Epoch 9/20 [train]: 100%|██████████| 453/453 [03:40<00:00,  2.05it/s]\n"
          ]
        },
        {
          "output_type": "stream",
          "name": "stdout",
          "text": [
            "Epoch  9 train loss: 0.0866\n"
          ]
        },
        {
          "output_type": "stream",
          "name": "stderr",
          "text": [
            "Epoch 9/20 [val]: 100%|██████████| 97/97 [00:45<00:00,  2.13it/s]\n"
          ]
        },
        {
          "output_type": "stream",
          "name": "stdout",
          "text": [
            "Epoch  9 val loss: 0.3407 | val acc: 88.91%\n",
            "\n"
          ]
        },
        {
          "output_type": "stream",
          "name": "stderr",
          "text": [
            "Epoch 10/20 [train]: 100%|██████████| 453/453 [03:40<00:00,  2.05it/s]\n"
          ]
        },
        {
          "output_type": "stream",
          "name": "stdout",
          "text": [
            "Epoch 10 train loss: 0.0637\n"
          ]
        },
        {
          "output_type": "stream",
          "name": "stderr",
          "text": [
            "Epoch 10/20 [val]: 100%|██████████| 97/97 [00:44<00:00,  2.16it/s]\n"
          ]
        },
        {
          "output_type": "stream",
          "name": "stdout",
          "text": [
            "Epoch 10 val loss: 0.4533 | val acc: 88.68%\n",
            "\n"
          ]
        },
        {
          "output_type": "stream",
          "name": "stderr",
          "text": [
            "Epoch 11/20 [train]: 100%|██████████| 453/453 [03:39<00:00,  2.06it/s]\n"
          ]
        },
        {
          "output_type": "stream",
          "name": "stdout",
          "text": [
            "Epoch 11 train loss: 0.0150\n"
          ]
        },
        {
          "output_type": "stream",
          "name": "stderr",
          "text": [
            "Epoch 11/20 [val]: 100%|██████████| 97/97 [00:47<00:00,  2.05it/s]\n"
          ]
        },
        {
          "output_type": "stream",
          "name": "stdout",
          "text": [
            "Epoch 11 val loss: 0.3135 | val acc: 91.29%\n",
            "\n"
          ]
        },
        {
          "output_type": "stream",
          "name": "stderr",
          "text": [
            "Epoch 12/20 [train]: 100%|██████████| 453/453 [03:39<00:00,  2.06it/s]\n"
          ]
        },
        {
          "output_type": "stream",
          "name": "stdout",
          "text": [
            "Epoch 12 train loss: 0.0046\n"
          ]
        },
        {
          "output_type": "stream",
          "name": "stderr",
          "text": [
            "Epoch 12/20 [val]: 100%|██████████| 97/97 [00:46<00:00,  2.07it/s]\n"
          ]
        },
        {
          "output_type": "stream",
          "name": "stdout",
          "text": [
            "Epoch 12 val loss: 0.3326 | val acc: 91.36%\n",
            "\n"
          ]
        },
        {
          "output_type": "stream",
          "name": "stderr",
          "text": [
            "Epoch 13/20 [train]: 100%|██████████| 453/453 [03:40<00:00,  2.05it/s]\n"
          ]
        },
        {
          "output_type": "stream",
          "name": "stdout",
          "text": [
            "Epoch 13 train loss: 0.0028\n"
          ]
        },
        {
          "output_type": "stream",
          "name": "stderr",
          "text": [
            "Epoch 13/20 [val]: 100%|██████████| 97/97 [00:45<00:00,  2.14it/s]\n"
          ]
        },
        {
          "output_type": "stream",
          "name": "stdout",
          "text": [
            "Epoch 13 val loss: 0.3429 | val acc: 91.42%\n",
            "\n"
          ]
        },
        {
          "output_type": "stream",
          "name": "stderr",
          "text": [
            "Epoch 14/20 [train]: 100%|██████████| 453/453 [03:41<00:00,  2.04it/s]\n"
          ]
        },
        {
          "output_type": "stream",
          "name": "stdout",
          "text": [
            "Epoch 14 train loss: 0.0019\n"
          ]
        },
        {
          "output_type": "stream",
          "name": "stderr",
          "text": [
            "Epoch 14/20 [val]: 100%|██████████| 97/97 [00:46<00:00,  2.07it/s]\n"
          ]
        },
        {
          "output_type": "stream",
          "name": "stdout",
          "text": [
            "Epoch 14 val loss: 0.3569 | val acc: 91.49%\n",
            "\n"
          ]
        },
        {
          "output_type": "stream",
          "name": "stderr",
          "text": [
            "Epoch 15/20 [train]: 100%|██████████| 453/453 [03:39<00:00,  2.07it/s]\n"
          ]
        },
        {
          "output_type": "stream",
          "name": "stdout",
          "text": [
            "Epoch 15 train loss: 0.0013\n"
          ]
        },
        {
          "output_type": "stream",
          "name": "stderr",
          "text": [
            "Epoch 15/20 [val]: 100%|██████████| 97/97 [00:46<00:00,  2.09it/s]\n"
          ]
        },
        {
          "output_type": "stream",
          "name": "stdout",
          "text": [
            "Epoch 15 val loss: 0.3732 | val acc: 91.49%\n",
            "\n"
          ]
        },
        {
          "output_type": "stream",
          "name": "stderr",
          "text": [
            "Epoch 16/20 [train]: 100%|██████████| 453/453 [03:40<00:00,  2.05it/s]\n"
          ]
        },
        {
          "output_type": "stream",
          "name": "stdout",
          "text": [
            "Epoch 16 train loss: 0.0010\n"
          ]
        },
        {
          "output_type": "stream",
          "name": "stderr",
          "text": [
            "Epoch 16/20 [val]: 100%|██████████| 97/97 [00:45<00:00,  2.13it/s]\n"
          ]
        },
        {
          "output_type": "stream",
          "name": "stdout",
          "text": [
            "Epoch 16 val loss: 0.3908 | val acc: 91.52%\n",
            "\n"
          ]
        },
        {
          "output_type": "stream",
          "name": "stderr",
          "text": [
            "Epoch 17/20 [train]: 100%|██████████| 453/453 [03:40<00:00,  2.06it/s]\n"
          ]
        },
        {
          "output_type": "stream",
          "name": "stdout",
          "text": [
            "Epoch 17 train loss: 0.0007\n"
          ]
        },
        {
          "output_type": "stream",
          "name": "stderr",
          "text": [
            "Epoch 17/20 [val]: 100%|██████████| 97/97 [00:46<00:00,  2.08it/s]\n"
          ]
        },
        {
          "output_type": "stream",
          "name": "stdout",
          "text": [
            "Epoch 17 val loss: 0.4071 | val acc: 91.42%\n",
            "\n"
          ]
        },
        {
          "output_type": "stream",
          "name": "stderr",
          "text": [
            "Epoch 18/20 [train]: 100%|██████████| 453/453 [03:42<00:00,  2.03it/s]\n"
          ]
        },
        {
          "output_type": "stream",
          "name": "stdout",
          "text": [
            "Epoch 18 train loss: 0.0005\n"
          ]
        },
        {
          "output_type": "stream",
          "name": "stderr",
          "text": [
            "Epoch 18/20 [val]: 100%|██████████| 97/97 [00:47<00:00,  2.05it/s]\n"
          ]
        },
        {
          "output_type": "stream",
          "name": "stdout",
          "text": [
            "Epoch 18 val loss: 0.4187 | val acc: 91.42%\n",
            "\n"
          ]
        },
        {
          "output_type": "stream",
          "name": "stderr",
          "text": [
            "Epoch 19/20 [train]: 100%|██████████| 453/453 [03:40<00:00,  2.05it/s]\n"
          ]
        },
        {
          "output_type": "stream",
          "name": "stdout",
          "text": [
            "Epoch 19 train loss: 0.0004\n"
          ]
        },
        {
          "output_type": "stream",
          "name": "stderr",
          "text": [
            "Epoch 19/20 [val]: 100%|██████████| 97/97 [00:45<00:00,  2.12it/s]\n"
          ]
        },
        {
          "output_type": "stream",
          "name": "stdout",
          "text": [
            "Epoch 19 val loss: 0.4374 | val acc: 91.52%\n",
            "\n"
          ]
        },
        {
          "output_type": "stream",
          "name": "stderr",
          "text": [
            "Epoch 20/20 [train]: 100%|██████████| 453/453 [03:42<00:00,  2.04it/s]\n"
          ]
        },
        {
          "output_type": "stream",
          "name": "stdout",
          "text": [
            "Epoch 20 train loss: 0.0003\n"
          ]
        },
        {
          "output_type": "stream",
          "name": "stderr",
          "text": [
            "Epoch 20/20 [val]: 100%|██████████| 97/97 [00:46<00:00,  2.08it/s]"
          ]
        },
        {
          "output_type": "stream",
          "name": "stdout",
          "text": [
            "Epoch 20 val loss: 0.4528 | val acc: 91.49%\n",
            "\n",
            "Training complete.\n"
          ]
        },
        {
          "output_type": "stream",
          "name": "stderr",
          "text": [
            "\n"
          ]
        }
      ]
    },
    {
      "cell_type": "code",
      "source": [
        "# Test evaluation\n",
        "model.eval()\n",
        "all_preds = []\n",
        "all_labels = []\n",
        "correct_test = 0\n",
        "total_test = 0\n",
        "\n",
        "with torch.no_grad():\n",
        "    for imgs, labels in tqdm(test_loader, desc=\"Testing\"):\n",
        "        imgs, labels = imgs.to(device), labels.to(device)\n",
        "        outputs = model(imgs)\n",
        "        _, preds = torch.max(outputs, 1)\n",
        "        correct_test += (preds == labels).sum().item()\n",
        "        total_test += labels.size(0)\n",
        "        all_preds.append(preds.cpu())\n",
        "        all_labels.append(labels.cpu())\n",
        "\n",
        "test_acc = 100.0 * correct_test / total_test\n",
        "print(f\"\\nTest accuracy: {test_acc:.2f}%\")\n",
        "\n",
        "all_preds = torch.cat(all_preds).numpy()\n",
        "all_labels = torch.cat(all_labels).numpy()\n",
        "\n",
        "precision_test = precision_score(all_labels, all_preds, average=\"macro\", zero_division=0)\n",
        "recall_test    = recall_score(all_labels, all_preds, average=\"macro\", zero_division=0)\n",
        "f1_test        = f1_score(all_labels, all_preds, average=\"macro\", zero_division=0)\n",
        "\n",
        "print(f\"Test precision (macro): {precision_test:.4f}\")\n",
        "print(f\"Test recall    (macro): {recall_test:.4f}\")\n",
        "print(f\"Test f1-score  (macro): {f1_test:.4f}\\n\")\n",
        "\n",
        "print(\"Test: per-class precision / recall / f1:\\n\")\n",
        "print(classification_report(\n",
        "    all_labels,\n",
        "    all_preds,\n",
        "    target_names=test_dataset.classes,\n",
        "    zero_division=0\n",
        "))\n",
        "\n",
        "cm = confusion_matrix(all_labels, all_preds)\n",
        "print(\"Test confusion matrix (rows=true, cols=predicted):\\n\", cm)"
      ],
      "metadata": {
        "colab": {
          "base_uri": "https://localhost:8080/"
        },
        "id": "I-RHzA9nCDA-",
        "outputId": "ae3e15c4-5714-4943-8ebf-88826dac8c6b"
      },
      "id": "I-RHzA9nCDA-",
      "execution_count": null,
      "outputs": [
        {
          "output_type": "stream",
          "name": "stderr",
          "text": [
            "Testing: 100%|██████████| 98/98 [00:48<00:00,  2.01it/s]"
          ]
        },
        {
          "output_type": "stream",
          "name": "stdout",
          "text": [
            "\n",
            "Test accuracy: 91.21%\n",
            "Test precision (macro): 0.9211\n",
            "Test recall    (macro): 0.8923\n",
            "Test f1-score  (macro): 0.9056\n",
            "\n",
            "Test: per-class precision / recall / f1:\n",
            "\n",
            "              precision    recall  f1-score   support\n",
            "\n",
            "        mild       0.91      0.92      0.91      1262\n",
            "    moderate       0.90      0.89      0.90       741\n",
            "      normal       0.95      0.83      0.89       124\n",
            "      severe       0.92      0.93      0.93       979\n",
            "\n",
            "    accuracy                           0.91      3106\n",
            "   macro avg       0.92      0.89      0.91      3106\n",
            "weighted avg       0.91      0.91      0.91      3106\n",
            "\n",
            "Test confusion matrix (rows=true, cols=predicted):\n",
            " [[1163   43    2   54]\n",
            " [  60  660    3   18]\n",
            " [  10    8  103    3]\n",
            " [  50   22    0  907]]\n"
          ]
        },
        {
          "output_type": "stream",
          "name": "stderr",
          "text": [
            "\n"
          ]
        }
      ]
    },
    {
      "cell_type": "code",
      "source": [
        "# Balanced test evaluation\n",
        "model.eval()\n",
        "all_preds      = []\n",
        "all_labels     = []\n",
        "correct_test   = 0\n",
        "total_test     = 0\n",
        "\n",
        "with torch.no_grad():\n",
        "    for imgs, labels in tqdm(balanced_loader, desc=\"Testing (Balanced)\"):\n",
        "        imgs, labels = imgs.to(device), labels.to(device)\n",
        "        outputs = model(imgs)              # logits of shape (batch_size, 4)\n",
        "        _, preds = torch.max(outputs, 1)\n",
        "\n",
        "        correct_test += (preds == labels).sum().item()\n",
        "        total_test   += labels.size(0)\n",
        "\n",
        "        all_preds.append(preds.cpu())\n",
        "        all_labels.append(labels.cpu())\n",
        "\n",
        "# Overall accuracy on the balanced 400‐image set\n",
        "test_acc = 100.0 * correct_test / total_test\n",
        "print(f\"\\nBalanced‐Test accuracy: {test_acc:.2f}%\")\n",
        "\n",
        "# Concatenate to NumPy arrays\n",
        "all_preds  = torch.cat(all_preds).numpy()\n",
        "all_labels = torch.cat(all_labels).numpy()\n",
        "\n",
        "# On a *balanced* test set (100 per class), using macro‐average is optional—\n",
        "# it simply computes the unweighted mean of the four class scores.\n",
        "precision_test = precision_score(all_labels, all_preds, average=\"macro\", zero_division=0)\n",
        "recall_test    = recall_score(all_labels, all_preds, average=\"macro\", zero_division=0)\n",
        "f1_test        = f1_score(all_labels, all_preds, average=\"macro\", zero_division=0)\n",
        "\n",
        "print(f\"Balanced‐Test precision (macro): {precision_test:.4f}\")\n",
        "print(f\"Balanced‐Test recall    (macro): {recall_test:.4f}\")\n",
        "print(f\"Balanced‐Test f1-score  (macro): {f1_test:.4f}\\n\")\n",
        "\n",
        "print(\"Balanced‐Test: per-class precision / recall / f1:\\n\")\n",
        "print(classification_report(\n",
        "    all_labels,\n",
        "    all_preds,\n",
        "    target_names=balanced_loader.dataset.classes,\n",
        "    zero_division=0\n",
        "))\n",
        "\n",
        "cm = confusion_matrix(all_labels, all_preds)\n",
        "print(\"Balanced‐Test confusion matrix (rows=true, cols=predicted):\\n\", cm)"
      ],
      "metadata": {
        "id": "DT29m6PPxaYi"
      },
      "id": "DT29m6PPxaYi",
      "execution_count": null,
      "outputs": []
    }
  ],
  "metadata": {
    "accelerator": "GPU",
    "colab": {
      "gpuType": "T4",
      "provenance": []
    },
    "kernelspec": {
      "display_name": "Python 3",
      "name": "python3"
    },
    "language_info": {
      "codemirror_mode": {
        "name": "ipython",
        "version": 3
      },
      "file_extension": ".py",
      "mimetype": "text/x-python",
      "name": "python",
      "nbconvert_exporter": "python",
      "pygments_lexer": "ipython3",
      "version": "3.11.5"
    }
  },
  "nbformat": 4,
  "nbformat_minor": 5
}