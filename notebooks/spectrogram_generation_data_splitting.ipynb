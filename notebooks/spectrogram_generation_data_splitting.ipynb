{
 "cells": [
  {
   "cell_type": "markdown",
   "id": "9fea8379",
   "metadata": {},
   "source": [
    "# EEG Spectrogram Generation and Dataset Splitting for Sleep Apnea Classification"
   ]
  },
  {
   "cell_type": "code",
   "execution_count": 1,
   "id": "993dad55",
   "metadata": {},
   "outputs": [],
   "source": [
    "import os\n",
    "import glob\n",
    "\n",
    "import numpy as np\n",
    "import mne\n",
    "from scipy.signal import spectrogram\n",
    "import matplotlib\n",
    "\n",
    "# Use a non-interactive backend to avoid GUI pop-ups during processing\n",
    "matplotlib.use('Agg')\n",
    "import matplotlib.pyplot as plt"
   ]
  },
  {
   "cell_type": "code",
   "execution_count": 2,
   "id": "3f89cf7d",
   "metadata": {},
   "outputs": [],
   "source": [
    "# ─── CONFIGURATION ──────────────────────────────────────────────────────────────\n",
    "raw_dir = \"../data/eeg_signals\"         # Directory containing EEG .edf files\n",
    "out_dir = \"../data/eeg_spectrograms\"    # Directory to save spectrogram images\n",
    "Fs = 128                                # Sampling frequency (Hz)\n",
    "epoch_sec = 30                          # Length of each epoch (seconds)\n",
    "L = Fs * epoch_sec                      # Total samples per epoch\n",
    "window = np.hamming(L)                  # Apply a Hamming window to each epoch\n",
    "noverlap = L // 2                       # 50% overlap between windows\n",
    "nfft = 2 ** int(np.ceil(np.log2(L)))    # FFT length (next power-of-two)\n",
    "\n",
    "channel_name = 'C3A2'\n",
    "\n",
    "os.makedirs(out_dir, exist_ok=True)\n",
    "\n",
    "plt.set_cmap('viridis')"
   ]
  },
  {
   "cell_type": "code",
   "execution_count": 3,
   "id": "1a6f8ad7",
   "metadata": {},
   "outputs": [
    {
     "name": "stderr",
     "output_type": "stream",
     "text": [
      "/var/folders/vk/sc311by57qz3bv_c1c3h0bc40000gn/T/ipykernel_53897/2658254631.py:10: RuntimeWarning: Channels contain different highpass filters. Highest filter setting will be stored.\n",
      "  raw = mne.io.read_raw_edf(edf_path, preload=True, verbose=False)\n",
      "/var/folders/vk/sc311by57qz3bv_c1c3h0bc40000gn/T/ipykernel_53897/2658254631.py:10: RuntimeWarning: Channels contain different lowpass filters. Lowest filter setting will be stored.\n",
      "  raw = mne.io.read_raw_edf(edf_path, preload=True, verbose=False)\n"
     ]
    },
    {
     "name": "stdout",
     "output_type": "stream",
     "text": [
      "Detected EEG channels in ucddb002.edf: ['Lefteye', 'RightEye', 'EMG', 'C3A2', 'C4A1', 'ECG', 'SpO2', 'Sound', 'Flow', 'Sum', 'ribcage', 'abdo', 'BodyPos', 'Pulse']\n"
     ]
    },
    {
     "name": "stderr",
     "output_type": "stream",
     "text": [
      "/var/folders/vk/sc311by57qz3bv_c1c3h0bc40000gn/T/ipykernel_53897/2658254631.py:10: RuntimeWarning: Channels contain different highpass filters. Highest filter setting will be stored.\n",
      "  raw = mne.io.read_raw_edf(edf_path, preload=True, verbose=False)\n",
      "/var/folders/vk/sc311by57qz3bv_c1c3h0bc40000gn/T/ipykernel_53897/2658254631.py:10: RuntimeWarning: Channels contain different lowpass filters. Lowest filter setting will be stored.\n",
      "  raw = mne.io.read_raw_edf(edf_path, preload=True, verbose=False)\n"
     ]
    },
    {
     "name": "stdout",
     "output_type": "stream",
     "text": [
      "Detected EEG channels in ucddb003.edf: ['Lefteye', 'RightEye', 'EMG', 'C3A2', 'C4A1', 'ECG', 'SpO2', 'Soud', 'Flow', 'Sum', 'ribcage', 'abdo', 'BodyPos', 'Pulse']\n"
     ]
    },
    {
     "name": "stderr",
     "output_type": "stream",
     "text": [
      "/var/folders/vk/sc311by57qz3bv_c1c3h0bc40000gn/T/ipykernel_53897/2658254631.py:10: RuntimeWarning: Channels contain different highpass filters. Highest filter setting will be stored.\n",
      "  raw = mne.io.read_raw_edf(edf_path, preload=True, verbose=False)\n",
      "/var/folders/vk/sc311by57qz3bv_c1c3h0bc40000gn/T/ipykernel_53897/2658254631.py:10: RuntimeWarning: Channels contain different lowpass filters. Lowest filter setting will be stored.\n",
      "  raw = mne.io.read_raw_edf(edf_path, preload=True, verbose=False)\n"
     ]
    },
    {
     "name": "stdout",
     "output_type": "stream",
     "text": [
      "Detected EEG channels in ucddb005.edf: ['Lefteye', 'RightEye', 'EMG', 'C3A2', 'C4A1', 'ECG', 'SpO2', 'Sound', 'Flow', 'Sum', 'ribcage', 'abdo', 'BodyPos', 'Pulse']\n"
     ]
    },
    {
     "name": "stderr",
     "output_type": "stream",
     "text": [
      "/var/folders/vk/sc311by57qz3bv_c1c3h0bc40000gn/T/ipykernel_53897/2658254631.py:10: RuntimeWarning: Channels contain different highpass filters. Highest filter setting will be stored.\n",
      "  raw = mne.io.read_raw_edf(edf_path, preload=True, verbose=False)\n",
      "/var/folders/vk/sc311by57qz3bv_c1c3h0bc40000gn/T/ipykernel_53897/2658254631.py:10: RuntimeWarning: Channels contain different lowpass filters. Lowest filter setting will be stored.\n",
      "  raw = mne.io.read_raw_edf(edf_path, preload=True, verbose=False)\n"
     ]
    },
    {
     "name": "stdout",
     "output_type": "stream",
     "text": [
      "Detected EEG channels in ucddb006.edf: ['Lefteye', 'RightEye', 'EMG', 'C3A2', 'C4A1', 'ECG', 'SpO2', 'Sound', 'Flow', 'Sum', 'ribcage', 'abdo', 'BodyPos', 'Pulse']\n"
     ]
    },
    {
     "name": "stderr",
     "output_type": "stream",
     "text": [
      "/var/folders/vk/sc311by57qz3bv_c1c3h0bc40000gn/T/ipykernel_53897/2658254631.py:10: RuntimeWarning: Channels contain different highpass filters. Highest filter setting will be stored.\n",
      "  raw = mne.io.read_raw_edf(edf_path, preload=True, verbose=False)\n",
      "/var/folders/vk/sc311by57qz3bv_c1c3h0bc40000gn/T/ipykernel_53897/2658254631.py:10: RuntimeWarning: Channels contain different lowpass filters. Lowest filter setting will be stored.\n",
      "  raw = mne.io.read_raw_edf(edf_path, preload=True, verbose=False)\n"
     ]
    },
    {
     "name": "stdout",
     "output_type": "stream",
     "text": [
      "Detected EEG channels in ucddb007.edf: ['Lefteye', 'RightEye', 'EMG', 'C3A2', 'C4A1', 'ECG', 'SpO2', 'Sound', 'Flow', 'Sum', 'ribcage', 'abdo', 'BodyPos', 'Pulse']\n"
     ]
    },
    {
     "name": "stderr",
     "output_type": "stream",
     "text": [
      "/var/folders/vk/sc311by57qz3bv_c1c3h0bc40000gn/T/ipykernel_53897/2658254631.py:10: RuntimeWarning: Channels contain different highpass filters. Highest filter setting will be stored.\n",
      "  raw = mne.io.read_raw_edf(edf_path, preload=True, verbose=False)\n",
      "/var/folders/vk/sc311by57qz3bv_c1c3h0bc40000gn/T/ipykernel_53897/2658254631.py:10: RuntimeWarning: Channels contain different lowpass filters. Lowest filter setting will be stored.\n",
      "  raw = mne.io.read_raw_edf(edf_path, preload=True, verbose=False)\n"
     ]
    },
    {
     "name": "stdout",
     "output_type": "stream",
     "text": [
      "Detected EEG channels in ucddb008.edf: ['Lefteye', 'RightEye', 'EMG', 'C3A2', 'C4A1', 'ECG', 'SpO2', 'Sound', 'Flow', 'Sum', 'ribcage', 'abdo', 'BodyPos', 'Pulse']\n"
     ]
    },
    {
     "name": "stderr",
     "output_type": "stream",
     "text": [
      "/var/folders/vk/sc311by57qz3bv_c1c3h0bc40000gn/T/ipykernel_53897/2658254631.py:10: RuntimeWarning: Channels contain different highpass filters. Highest filter setting will be stored.\n",
      "  raw = mne.io.read_raw_edf(edf_path, preload=True, verbose=False)\n",
      "/var/folders/vk/sc311by57qz3bv_c1c3h0bc40000gn/T/ipykernel_53897/2658254631.py:10: RuntimeWarning: Channels contain different lowpass filters. Lowest filter setting will be stored.\n",
      "  raw = mne.io.read_raw_edf(edf_path, preload=True, verbose=False)\n"
     ]
    },
    {
     "name": "stdout",
     "output_type": "stream",
     "text": [
      "Detected EEG channels in ucddb009.edf: ['Lefteye', 'RightEye', 'EMG', 'C3A2', 'C4A1', 'ECG', 'SpO2', 'Sound', 'Flow', 'Sum', 'ribcage', 'abdo', 'BodyPos', 'Pulse']\n"
     ]
    },
    {
     "name": "stderr",
     "output_type": "stream",
     "text": [
      "/var/folders/vk/sc311by57qz3bv_c1c3h0bc40000gn/T/ipykernel_53897/2658254631.py:10: RuntimeWarning: Channels contain different highpass filters. Highest filter setting will be stored.\n",
      "  raw = mne.io.read_raw_edf(edf_path, preload=True, verbose=False)\n",
      "/var/folders/vk/sc311by57qz3bv_c1c3h0bc40000gn/T/ipykernel_53897/2658254631.py:10: RuntimeWarning: Channels contain different lowpass filters. Lowest filter setting will be stored.\n",
      "  raw = mne.io.read_raw_edf(edf_path, preload=True, verbose=False)\n"
     ]
    },
    {
     "name": "stdout",
     "output_type": "stream",
     "text": [
      "Detected EEG channels in ucddb010.edf: ['Lefteye', 'RightEye', 'EMG', 'C3A2', 'C4A1', 'ECG', 'SpO2', 'Soud', 'Flow', 'Sum', 'ribcage', 'abdo', 'BodyPos', 'Pulse']\n"
     ]
    },
    {
     "name": "stderr",
     "output_type": "stream",
     "text": [
      "/var/folders/vk/sc311by57qz3bv_c1c3h0bc40000gn/T/ipykernel_53897/2658254631.py:10: RuntimeWarning: Channels contain different highpass filters. Highest filter setting will be stored.\n",
      "  raw = mne.io.read_raw_edf(edf_path, preload=True, verbose=False)\n",
      "/var/folders/vk/sc311by57qz3bv_c1c3h0bc40000gn/T/ipykernel_53897/2658254631.py:10: RuntimeWarning: Channels contain different lowpass filters. Lowest filter setting will be stored.\n",
      "  raw = mne.io.read_raw_edf(edf_path, preload=True, verbose=False)\n"
     ]
    },
    {
     "name": "stdout",
     "output_type": "stream",
     "text": [
      "Detected EEG channels in ucddb011.edf: ['Lefteye', 'RightEye', 'EMG', 'C3A2', 'C4A1', 'Right leg', 'ECG', 'Left leg', 'SpO2', 'Sound', 'Flow', 'Sum', 'ribcage', 'abdo', 'BodyPos', 'Pulse']\n"
     ]
    },
    {
     "name": "stderr",
     "output_type": "stream",
     "text": [
      "/var/folders/vk/sc311by57qz3bv_c1c3h0bc40000gn/T/ipykernel_53897/2658254631.py:10: RuntimeWarning: Channels contain different highpass filters. Highest filter setting will be stored.\n",
      "  raw = mne.io.read_raw_edf(edf_path, preload=True, verbose=False)\n",
      "/var/folders/vk/sc311by57qz3bv_c1c3h0bc40000gn/T/ipykernel_53897/2658254631.py:10: RuntimeWarning: Channels contain different lowpass filters. Lowest filter setting will be stored.\n",
      "  raw = mne.io.read_raw_edf(edf_path, preload=True, verbose=False)\n"
     ]
    },
    {
     "name": "stdout",
     "output_type": "stream",
     "text": [
      "Detected EEG channels in ucddb012.edf: ['Lefteye', 'RightEye', 'EMG', 'C3A2', 'C4A1', 'ECG', 'SpO2', 'Soud', 'Flow', 'Sum', 'ribcage', 'abdo', 'BodyPos', 'Pulse']\n"
     ]
    },
    {
     "name": "stderr",
     "output_type": "stream",
     "text": [
      "/var/folders/vk/sc311by57qz3bv_c1c3h0bc40000gn/T/ipykernel_53897/2658254631.py:10: RuntimeWarning: Channels contain different highpass filters. Highest filter setting will be stored.\n",
      "  raw = mne.io.read_raw_edf(edf_path, preload=True, verbose=False)\n",
      "/var/folders/vk/sc311by57qz3bv_c1c3h0bc40000gn/T/ipykernel_53897/2658254631.py:10: RuntimeWarning: Channels contain different lowpass filters. Lowest filter setting will be stored.\n",
      "  raw = mne.io.read_raw_edf(edf_path, preload=True, verbose=False)\n"
     ]
    },
    {
     "name": "stdout",
     "output_type": "stream",
     "text": [
      "Detected EEG channels in ucddb013.edf: ['Lefteye', 'RightEye', 'EMG', 'C3A2', 'C4A1', 'ECG', 'SpO2', 'Soud', 'Flow', 'Sum', 'ribcage', 'abdo', 'BodyPos', 'Pulse']\n"
     ]
    },
    {
     "name": "stderr",
     "output_type": "stream",
     "text": [
      "/var/folders/vk/sc311by57qz3bv_c1c3h0bc40000gn/T/ipykernel_53897/2658254631.py:10: RuntimeWarning: Channels contain different highpass filters. Highest filter setting will be stored.\n",
      "  raw = mne.io.read_raw_edf(edf_path, preload=True, verbose=False)\n",
      "/var/folders/vk/sc311by57qz3bv_c1c3h0bc40000gn/T/ipykernel_53897/2658254631.py:10: RuntimeWarning: Channels contain different lowpass filters. Lowest filter setting will be stored.\n",
      "  raw = mne.io.read_raw_edf(edf_path, preload=True, verbose=False)\n"
     ]
    },
    {
     "name": "stdout",
     "output_type": "stream",
     "text": [
      "Detected EEG channels in ucddb014.edf: ['Lefteye', 'RightEye', 'EMG', 'C3A2', 'C4A1', 'ECG', 'SpO2', 'Soud', 'Flow', 'Sum', 'ribcage', 'abdo', 'BodyPos', 'Pulse']\n"
     ]
    },
    {
     "name": "stderr",
     "output_type": "stream",
     "text": [
      "/var/folders/vk/sc311by57qz3bv_c1c3h0bc40000gn/T/ipykernel_53897/2658254631.py:10: RuntimeWarning: Channels contain different highpass filters. Highest filter setting will be stored.\n",
      "  raw = mne.io.read_raw_edf(edf_path, preload=True, verbose=False)\n",
      "/var/folders/vk/sc311by57qz3bv_c1c3h0bc40000gn/T/ipykernel_53897/2658254631.py:10: RuntimeWarning: Channels contain different lowpass filters. Lowest filter setting will be stored.\n",
      "  raw = mne.io.read_raw_edf(edf_path, preload=True, verbose=False)\n"
     ]
    },
    {
     "name": "stdout",
     "output_type": "stream",
     "text": [
      "Detected EEG channels in ucddb015.edf: ['Lefteye', 'RightEye', 'EMG', 'C3A2', 'C4A1', 'ECG', 'SpO2', 'Sound', 'Flow', 'Sum', 'ribcage', 'abdo', 'BodyPos', 'Pulse']\n"
     ]
    },
    {
     "name": "stderr",
     "output_type": "stream",
     "text": [
      "/var/folders/vk/sc311by57qz3bv_c1c3h0bc40000gn/T/ipykernel_53897/2658254631.py:10: RuntimeWarning: Channels contain different highpass filters. Highest filter setting will be stored.\n",
      "  raw = mne.io.read_raw_edf(edf_path, preload=True, verbose=False)\n",
      "/var/folders/vk/sc311by57qz3bv_c1c3h0bc40000gn/T/ipykernel_53897/2658254631.py:10: RuntimeWarning: Channels contain different lowpass filters. Lowest filter setting will be stored.\n",
      "  raw = mne.io.read_raw_edf(edf_path, preload=True, verbose=False)\n"
     ]
    },
    {
     "name": "stdout",
     "output_type": "stream",
     "text": [
      "Detected EEG channels in ucddb017.edf: ['Lefteye', 'RightEye', 'EMG', 'C3A2', 'C4A1', 'ECG', 'SpO2', 'Soud', 'Flow', 'Sum', 'ribcage', 'abdo', 'BodyPos', 'Pulse']\n"
     ]
    },
    {
     "name": "stderr",
     "output_type": "stream",
     "text": [
      "/var/folders/vk/sc311by57qz3bv_c1c3h0bc40000gn/T/ipykernel_53897/2658254631.py:10: RuntimeWarning: Channels contain different highpass filters. Highest filter setting will be stored.\n",
      "  raw = mne.io.read_raw_edf(edf_path, preload=True, verbose=False)\n",
      "/var/folders/vk/sc311by57qz3bv_c1c3h0bc40000gn/T/ipykernel_53897/2658254631.py:10: RuntimeWarning: Channels contain different lowpass filters. Lowest filter setting will be stored.\n",
      "  raw = mne.io.read_raw_edf(edf_path, preload=True, verbose=False)\n"
     ]
    },
    {
     "name": "stdout",
     "output_type": "stream",
     "text": [
      "Detected EEG channels in ucddb018.edf: ['Lefteye', 'RightEye', 'EMG', 'C3A2', 'C4A1', 'ECG', 'SpO2', 'Sound', 'Flow', 'Sum', 'ribcage', 'abdo', 'BodyPos', 'Pulse']\n"
     ]
    },
    {
     "name": "stderr",
     "output_type": "stream",
     "text": [
      "/var/folders/vk/sc311by57qz3bv_c1c3h0bc40000gn/T/ipykernel_53897/2658254631.py:10: RuntimeWarning: Channels contain different highpass filters. Highest filter setting will be stored.\n",
      "  raw = mne.io.read_raw_edf(edf_path, preload=True, verbose=False)\n",
      "/var/folders/vk/sc311by57qz3bv_c1c3h0bc40000gn/T/ipykernel_53897/2658254631.py:10: RuntimeWarning: Channels contain different lowpass filters. Lowest filter setting will be stored.\n",
      "  raw = mne.io.read_raw_edf(edf_path, preload=True, verbose=False)\n"
     ]
    },
    {
     "name": "stdout",
     "output_type": "stream",
     "text": [
      "Detected EEG channels in ucddb019.edf: ['Lefteye', 'RightEye', 'EMG', 'C3A2', 'C4A1', 'ECG', 'SpO2', 'Sound', 'Flow', 'Sum', 'ribcage', 'abdo', 'BodyPos', 'Pulse']\n"
     ]
    },
    {
     "name": "stderr",
     "output_type": "stream",
     "text": [
      "/var/folders/vk/sc311by57qz3bv_c1c3h0bc40000gn/T/ipykernel_53897/2658254631.py:10: RuntimeWarning: Channels contain different highpass filters. Highest filter setting will be stored.\n",
      "  raw = mne.io.read_raw_edf(edf_path, preload=True, verbose=False)\n",
      "/var/folders/vk/sc311by57qz3bv_c1c3h0bc40000gn/T/ipykernel_53897/2658254631.py:10: RuntimeWarning: Channels contain different lowpass filters. Lowest filter setting will be stored.\n",
      "  raw = mne.io.read_raw_edf(edf_path, preload=True, verbose=False)\n"
     ]
    },
    {
     "name": "stdout",
     "output_type": "stream",
     "text": [
      "Detected EEG channels in ucddb020.edf: ['Lefteye', 'RightEye', 'EMG', 'C3A2', 'C4A1', 'ECG', 'SpO2', 'Soud', 'Flow', 'Sum', 'ribcage', 'abdo', 'BodyPos', 'Pulse']\n"
     ]
    },
    {
     "name": "stderr",
     "output_type": "stream",
     "text": [
      "/var/folders/vk/sc311by57qz3bv_c1c3h0bc40000gn/T/ipykernel_53897/2658254631.py:10: RuntimeWarning: Channels contain different highpass filters. Highest filter setting will be stored.\n",
      "  raw = mne.io.read_raw_edf(edf_path, preload=True, verbose=False)\n",
      "/var/folders/vk/sc311by57qz3bv_c1c3h0bc40000gn/T/ipykernel_53897/2658254631.py:10: RuntimeWarning: Channels contain different lowpass filters. Lowest filter setting will be stored.\n",
      "  raw = mne.io.read_raw_edf(edf_path, preload=True, verbose=False)\n"
     ]
    },
    {
     "name": "stdout",
     "output_type": "stream",
     "text": [
      "Detected EEG channels in ucddb021.edf: ['Lefteye', 'RightEye', 'EMG', 'C3A2', 'C4A1', 'ECG', 'SpO2', 'Sound', 'Flow', 'Sum', 'ribcage', 'abdo', 'BodyPos', 'Pulse']\n"
     ]
    },
    {
     "name": "stderr",
     "output_type": "stream",
     "text": [
      "/var/folders/vk/sc311by57qz3bv_c1c3h0bc40000gn/T/ipykernel_53897/2658254631.py:10: RuntimeWarning: Channels contain different highpass filters. Highest filter setting will be stored.\n",
      "  raw = mne.io.read_raw_edf(edf_path, preload=True, verbose=False)\n",
      "/var/folders/vk/sc311by57qz3bv_c1c3h0bc40000gn/T/ipykernel_53897/2658254631.py:10: RuntimeWarning: Channels contain different lowpass filters. Lowest filter setting will be stored.\n",
      "  raw = mne.io.read_raw_edf(edf_path, preload=True, verbose=False)\n"
     ]
    },
    {
     "name": "stdout",
     "output_type": "stream",
     "text": [
      "Detected EEG channels in ucddb022.edf: ['Lefteye', 'RightEye', 'EMG', 'C3A2', 'C4A1', 'ECG', 'SpO2', 'Soud', 'Flow', 'Sum', 'ribcage', 'abdo', 'BodyPos', 'Pulse']\n"
     ]
    },
    {
     "name": "stderr",
     "output_type": "stream",
     "text": [
      "/var/folders/vk/sc311by57qz3bv_c1c3h0bc40000gn/T/ipykernel_53897/2658254631.py:10: RuntimeWarning: Channels contain different highpass filters. Highest filter setting will be stored.\n",
      "  raw = mne.io.read_raw_edf(edf_path, preload=True, verbose=False)\n",
      "/var/folders/vk/sc311by57qz3bv_c1c3h0bc40000gn/T/ipykernel_53897/2658254631.py:10: RuntimeWarning: Channels contain different lowpass filters. Lowest filter setting will be stored.\n",
      "  raw = mne.io.read_raw_edf(edf_path, preload=True, verbose=False)\n"
     ]
    },
    {
     "name": "stdout",
     "output_type": "stream",
     "text": [
      "Detected EEG channels in ucddb023.edf: ['Lefteye', 'RightEye', 'EMG', 'C3A2', 'C4A1', 'ECG', 'SpO2', 'Sound', 'Flow', 'Sum', 'ribcage', 'abdo', 'BodyPos', 'Pulse']\n"
     ]
    },
    {
     "name": "stderr",
     "output_type": "stream",
     "text": [
      "/var/folders/vk/sc311by57qz3bv_c1c3h0bc40000gn/T/ipykernel_53897/2658254631.py:10: RuntimeWarning: Channels contain different highpass filters. Highest filter setting will be stored.\n",
      "  raw = mne.io.read_raw_edf(edf_path, preload=True, verbose=False)\n",
      "/var/folders/vk/sc311by57qz3bv_c1c3h0bc40000gn/T/ipykernel_53897/2658254631.py:10: RuntimeWarning: Channels contain different lowpass filters. Lowest filter setting will be stored.\n",
      "  raw = mne.io.read_raw_edf(edf_path, preload=True, verbose=False)\n"
     ]
    },
    {
     "name": "stdout",
     "output_type": "stream",
     "text": [
      "Detected EEG channels in ucddb024.edf: ['Lefteye', 'RightEye', 'EMG', 'C3A2', 'C4A1', 'ECG', 'SpO2', 'Sound', 'Flow', 'Sum', 'ribcage', 'abdo', 'BodyPos', 'Pulse']\n"
     ]
    },
    {
     "name": "stderr",
     "output_type": "stream",
     "text": [
      "/var/folders/vk/sc311by57qz3bv_c1c3h0bc40000gn/T/ipykernel_53897/2658254631.py:10: RuntimeWarning: Channels contain different highpass filters. Highest filter setting will be stored.\n",
      "  raw = mne.io.read_raw_edf(edf_path, preload=True, verbose=False)\n",
      "/var/folders/vk/sc311by57qz3bv_c1c3h0bc40000gn/T/ipykernel_53897/2658254631.py:10: RuntimeWarning: Channels contain different lowpass filters. Lowest filter setting will be stored.\n",
      "  raw = mne.io.read_raw_edf(edf_path, preload=True, verbose=False)\n"
     ]
    },
    {
     "name": "stdout",
     "output_type": "stream",
     "text": [
      "Detected EEG channels in ucddb025.edf: ['Lefteye', 'RightEye', 'EMG', 'C3A2', 'C4A1', 'ECG', 'SpO2', 'Soud', 'Flow', 'Sum', 'ribcage', 'abdo', 'BodyPos', 'Pulse']\n"
     ]
    },
    {
     "name": "stderr",
     "output_type": "stream",
     "text": [
      "/var/folders/vk/sc311by57qz3bv_c1c3h0bc40000gn/T/ipykernel_53897/2658254631.py:10: RuntimeWarning: Channels contain different highpass filters. Highest filter setting will be stored.\n",
      "  raw = mne.io.read_raw_edf(edf_path, preload=True, verbose=False)\n",
      "/var/folders/vk/sc311by57qz3bv_c1c3h0bc40000gn/T/ipykernel_53897/2658254631.py:10: RuntimeWarning: Channels contain different lowpass filters. Lowest filter setting will be stored.\n",
      "  raw = mne.io.read_raw_edf(edf_path, preload=True, verbose=False)\n"
     ]
    },
    {
     "name": "stdout",
     "output_type": "stream",
     "text": [
      "Detected EEG channels in ucddb026.edf: ['Lefteye', 'RightEye', 'EMG', 'C3A2', 'C4A1', 'ECG', 'SpO2', 'Sound', 'Flow', 'Sum', 'ribcage', 'abdo', 'BodyPos', 'Pulse']\n"
     ]
    },
    {
     "name": "stderr",
     "output_type": "stream",
     "text": [
      "/var/folders/vk/sc311by57qz3bv_c1c3h0bc40000gn/T/ipykernel_53897/2658254631.py:10: RuntimeWarning: Channels contain different highpass filters. Highest filter setting will be stored.\n",
      "  raw = mne.io.read_raw_edf(edf_path, preload=True, verbose=False)\n",
      "/var/folders/vk/sc311by57qz3bv_c1c3h0bc40000gn/T/ipykernel_53897/2658254631.py:10: RuntimeWarning: Channels contain different lowpass filters. Lowest filter setting will be stored.\n",
      "  raw = mne.io.read_raw_edf(edf_path, preload=True, verbose=False)\n"
     ]
    },
    {
     "name": "stdout",
     "output_type": "stream",
     "text": [
      "Detected EEG channels in ucddb027.edf: ['Lefteye', 'RightEye', 'EMG', 'C3A2', 'C4A1', 'ECG', 'SpO2', 'Soud', 'Flow', 'Sum', 'ribcage', 'abdo', 'BodyPos', 'Pulse']\n"
     ]
    },
    {
     "name": "stderr",
     "output_type": "stream",
     "text": [
      "/var/folders/vk/sc311by57qz3bv_c1c3h0bc40000gn/T/ipykernel_53897/2658254631.py:10: RuntimeWarning: Channels contain different highpass filters. Highest filter setting will be stored.\n",
      "  raw = mne.io.read_raw_edf(edf_path, preload=True, verbose=False)\n",
      "/var/folders/vk/sc311by57qz3bv_c1c3h0bc40000gn/T/ipykernel_53897/2658254631.py:10: RuntimeWarning: Channels contain different lowpass filters. Lowest filter setting will be stored.\n",
      "  raw = mne.io.read_raw_edf(edf_path, preload=True, verbose=False)\n"
     ]
    },
    {
     "name": "stdout",
     "output_type": "stream",
     "text": [
      "Detected EEG channels in ucddb028.edf: ['Lefteye', 'RightEye', 'EMG', 'C3A2', 'C4A1', 'ECG', 'SpO2', 'Sound', 'Flow', 'Sum', 'ribcage', 'abdo', 'BodyPos', 'Pulse']\n",
      "✓ Spectrogram generation complete.\n"
     ]
    }
   ],
   "source": [
    "# ─── SPECTROGRAM GENERATION ────────────────────────────────────────────────────\n",
    "# Find all EDF files in the specified directory\n",
    "edf_list = sorted(glob.glob(os.path.join(raw_dir, \"*.edf\")))\n",
    "if not edf_list:\n",
    "    raise FileNotFoundError(f\"No .edf files found in {raw_dir}\")\n",
    "\n",
    "# Iterate over each EDF file\n",
    "for edf_path in edf_list:\n",
    "    # Load EDF file into MNE Raw object\n",
    "    raw = mne.io.read_raw_edf(edf_path, preload=True, verbose=False)\n",
    "\n",
    "    # List available EEG channels\n",
    "    eeg_chs = mne.pick_types(raw.info, eeg=True)\n",
    "    available = [raw.info['ch_names'][i] for i in eeg_chs]\n",
    "    print(f\"Detected EEG channels in {os.path.basename(edf_path)}: {available}\")\n",
    "\n",
    "    # Verify the specified EEG channel is present\n",
    "    if channel_name not in raw.ch_names:\n",
    "        raise ValueError(f\"Channel '{channel_name}' not found in {edf_path}\")\n",
    "\n",
    "    # Extract data for the specified EEG channel\n",
    "    pick_idx = mne.pick_channels(raw.info['ch_names'], include=[channel_name])\n",
    "    sig = raw.get_data(picks=pick_idx)[0]  # EEG signal as 1D numpy array\n",
    "\n",
    "    # Determine the file's base name and number of epochs\n",
    "    base = os.path.splitext(os.path.basename(edf_path))[0]\n",
    "    nseg = len(sig) // L  # number of complete 30-second epochs\n",
    "\n",
    "    # Process each epoch individually\n",
    "    for i in range(nseg):\n",
    "        # Extract epoch segment\n",
    "        seg = sig[i*L:(i+1)*L]\n",
    "\n",
    "        # Compute spectrogram using Short-Time Fourier Transform (STFT)\n",
    "        f, t, Sxx = spectrogram(\n",
    "            seg,\n",
    "            fs=Fs,\n",
    "            window=window,\n",
    "            noverlap=noverlap,\n",
    "            nfft=nfft\n",
    "        )\n",
    "\n",
    "        # Convert spectrogram power values to decibels (dB)\n",
    "        Sxx_db = 10 * np.log10(np.abs(Sxx) + 1e-12)\n",
    "\n",
    "        # Visualize spectrogram\n",
    "        plt.figure()\n",
    "        plt.imshow(\n",
    "            Sxx_db,\n",
    "            origin='lower',\n",
    "            aspect='auto',\n",
    "            extent=[0, epoch_sec, f.min(), f.max()]\n",
    "        )\n",
    "        plt.xlabel('Time (s)')\n",
    "        plt.ylabel('Frequency (Hz)')\n",
    "        plt.title(f\"{base} – {channel_name} Segment {i+1}\")\n",
    "        plt.colorbar(label='Power/Frequency (dB/Hz)')\n",
    "\n",
    "        # Save spectrogram as PNG\n",
    "        plt.tight_layout()\n",
    "        out_fn = f\"{base}_{channel_name}_spectrogram_{i+1}.png\"\n",
    "        plt.savefig(os.path.join(out_dir, out_fn), bbox_inches='tight', dpi=150)\n",
    "\n",
    "        # Close figures to manage memory efficiently\n",
    "        plt.close('all')\n",
    "\n",
    "print(\"✓ Spectrogram generation complete.\")"
   ]
  },
  {
   "cell_type": "code",
   "execution_count": 11,
   "id": "f28d4ea4",
   "metadata": {},
   "outputs": [],
   "source": [
    "# ─── EXPLANATION OF OUTCOME ──────────────────────────────────────────────────────\n",
    "# The script processes EEG recordings from EDF files, segments them into fixed\n",
    "# 30-second intervals, computes the spectrograms for each segment, and saves\n",
    "# each spectrogram as a high-resolution PNG image.\n",
    "#\n",
    "# Each image clearly visualizes how EEG signal power varies with frequency\n",
    "# over the 30-second epoch. These spectrogram images are suitable inputs for\n",
    "# deep learning models (e.g., CNNs or YOLO architectures) for tasks such as\n",
    "# classifying sleep stages or detecting sleep-related disorders like apnea.\n",
    "#\n",
    "# Outcomes:\n",
    "# - Directory filled with systematically named spectrogram images.\n",
    "# - Each image can be directly utilized in machine learning workflows."
   ]
  },
  {
   "cell_type": "code",
   "execution_count": 12,
   "id": "f7248726",
   "metadata": {},
   "outputs": [],
   "source": [
    "# AHI < 5 (normal):\n",
    "# ucddb018 (ahi = 2, eeg_spectrograms_count = 822)\n",
    "# total = 1 subject, 822 spectrograms\n",
    "#\n",
    "# 5 ≤ AHI < 15 (mild):\n",
    "# ucddb005 (ahi = 13, eeg_spectrograms_count = 826)\n",
    "# ucddb007 (ahi = 12, eeg_spectrograms_count = 813)\n",
    "# ucddb008 (ahi = 5, eeg_spectrograms_count = 768)\n",
    "# ucddb009 (ahi = 12, eeg_spectrograms_count = 925)\n",
    "# ucddb011 (ahi = 8, eeg_spectrograms_count = 901)\n",
    "# ucddb015 (ahi = 6, eeg_spectrograms_count = 916)\n",
    "# ucddb017 (ahi = 12, eeg_spectrograms_count = 789)\n",
    "# ucddb021 (ahi = 13, eeg_spectrograms_count = 913)\t\n",
    "# ucddb022 (ahi = 7, eeg_spectrograms_count = 788)\n",
    "# ucddb026 (ahi = 14, eeg_spectrograms_count = 838)\n",
    "# total = 10 subjects, 8477 spectrograms\n",
    "#\n",
    "# 15 ≤ AHI < 30 (moderate):\n",
    "# ucddb002 (ahi = 23, eeg_spectrograms_count = 749)\n",
    "# ucddb012 (ahi = 25, eeg_spectrograms_count = 864)\n",
    "# ucddb013 (ahi = 16, eeg_spectrograms_count = 811)\n",
    "# ucddb019 (ahi = 16, eeg_spectrograms_count = 852)\n",
    "# ucddb020 (ahi = 15, eeg_spectrograms_count = 752)\n",
    "# ucddb024 (ahi = 24, eeg_spectrograms_count = 908)\n",
    "# total = 6 subjects, 4936 spectrograms\n",
    "#\n",
    "# AHI ≥ 30 (severe):\n",
    "# ucddb003 (ahi = 51, eeg_spectrograms_count = 882)\n",
    "# ucddb006 (ahi = 31, eeg_spectrograms_count = 808)\n",
    "# ucddb010 (ahi = 34, eeg_spectrograms_count = 907)\n",
    "# ucddb014 (ahi = 36, eeg_spectrograms_count = 774)\n",
    "# ucddb023 (ahi = 39, eeg_spectrograms_count = 861)\n",
    "# ucddb025 (ahi = 91, eeg_spectrograms_count = 711)\n",
    "# ucddb027 (ahi = 55, eeg_spectrograms_count = 893)\n",
    "# ucddb028 (ahi = 46, eeg_spectrograms_count = 722)\n",
    "# total = 8 subjects, 6558 spectrograms"
   ]
  },
  {
   "cell_type": "code",
   "execution_count": 13,
   "id": "e3cd4643",
   "metadata": {},
   "outputs": [],
   "source": [
    "import random\n",
    "import shutil"
   ]
  },
  {
   "cell_type": "code",
   "execution_count": 14,
   "id": "34602766",
   "metadata": {},
   "outputs": [],
   "source": [
    "# Ratios for splitting the dataset\n",
    "train_ratio = 0.70\n",
    "val_ratio = 0.15\n",
    "# Remaining 15% implicitly used for testing"
   ]
  },
  {
   "cell_type": "code",
   "execution_count": 15,
   "id": "84c485aa",
   "metadata": {},
   "outputs": [
    {
     "name": "stdout",
     "output_type": "stream",
     "text": [
      "✓ Dataset split into train/val/test subsets complete.\n"
     ]
    }
   ],
   "source": [
    "# ─── DATA SPLITTING ─────────────────────────────────────────────────────────────\n",
    "# Iterate through each class subfolder within the spectrograms directory\n",
    "for feature in os.listdir(out_dir):\n",
    "    feature_dir = os.path.join(out_dir, feature)\n",
    "    if not os.path.isdir(feature_dir):\n",
    "        continue  # Skip if not a directory\n",
    "\n",
    "    # Create directories for training, validation, and test subsets\n",
    "    for split in (\"train\", \"val\", \"test\"):\n",
    "        os.makedirs(os.path.join(feature_dir, split), exist_ok=True)\n",
    "\n",
    "    # List and shuffle all spectrogram images\n",
    "    pics = [f for f in os.listdir(feature_dir) if f.endswith(\".png\")]\n",
    "    random.shuffle(pics)\n",
    "\n",
    "    # Compute the number of images for each subset\n",
    "    n_total = len(pics)\n",
    "    n_train = int(n_total * train_ratio)\n",
    "    n_val = int(n_total * val_ratio)\n",
    "\n",
    "    # Distribute images into the respective subsets\n",
    "    for idx, pic in enumerate(pics):\n",
    "        if idx < n_train:\n",
    "            dst = \"train\"\n",
    "        elif idx < n_train + n_val:\n",
    "            dst = \"val\"\n",
    "        else:\n",
    "            dst = \"test\"\n",
    "\n",
    "        # Move the image to the corresponding subset folder\n",
    "        src_path = os.path.join(feature_dir, pic)\n",
    "        dst_path = os.path.join(feature_dir, dst, pic)\n",
    "        shutil.move(src_path, dst_path)\n",
    "\n",
    "print(\"✓ Dataset split into train/val/test subsets complete.\")"
   ]
  },
  {
   "cell_type": "code",
   "execution_count": 16,
   "id": "4de457d3",
   "metadata": {},
   "outputs": [],
   "source": [
    "# ─── EXPLANATION OF OUTCOME ──────────────────────────────────────────────────────\n",
    "# This script splits spectrogram images into training, validation, and test sets\n",
    "# following the defined ratios. It ensures each class has proportionally divided\n",
    "# subsets, facilitating robust training and evaluation of machine learning models.\n",
    "#\n",
    "# Outcomes:\n",
    "# - Clear directory structure organized into train, validation, and test subsets.\n",
    "# - Ready-to-use dataset structure suitable for machine learning tasks."
   ]
  }
 ],
 "metadata": {
  "kernelspec": {
   "display_name": "base",
   "language": "python",
   "name": "python3"
  },
  "language_info": {
   "codemirror_mode": {
    "name": "ipython",
    "version": 3
   },
   "file_extension": ".py",
   "mimetype": "text/x-python",
   "name": "python",
   "nbconvert_exporter": "python",
   "pygments_lexer": "ipython3",
   "version": "3.11.5"
  }
 },
 "nbformat": 4,
 "nbformat_minor": 5
}
