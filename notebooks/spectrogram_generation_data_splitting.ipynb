{
  "cells": [
    {
      "cell_type": "markdown",
      "id": "9fea8379",
      "metadata": {
        "id": "9fea8379"
      },
      "source": [
        "# EEG Spectrogram Generation and Dataset Splitting for Sleep Apnea Classification\n",
        "\n",
        "## Dataset Description\n",
        "\n",
        "The dataset for this study is drawn from the C3–A2 EEG channel of overnight polysomnography (PSG) recordings in the PhysioNet repository ([UCDDB Sleep Apnea Database](https://archive.physionet.org/physiobank/database/ucddb/)). Each recording is annotated with:  \n",
        "- **Apnea–Hypopnea Index (AHI):** a continuous measure of respiratory events per hour  \n",
        "- **Total sleep duration:** the length of the recording during sleep  \n",
        "\n",
        "Although AHI is a continuous variable, we stratify it into four clinically meaningful categories to capture both between‐ and within‐group variation:\n",
        "\n",
        "| Category   | AHI Range (events/hr) | Clinical Label |\n",
        "|:-----------|:----------------------|:---------------|\n",
        "| Normal     | AHI < 5               | Normal         |\n",
        "| Mild       | 5 ≤ AHI < 15          | Mild           |\n",
        "| Moderate   | 15 ≤ AHI < 30         | Moderate       |\n",
        "| Severe     | AHI ≥ 30              | Severe         |"
      ]
    },
    {
      "cell_type": "markdown",
      "id": "cb71e33a",
      "metadata": {
        "id": "cb71e33a"
      },
      "source": [
        "## Imports"
      ]
    },
    {
      "cell_type": "code",
      "execution_count": null,
      "id": "993dad55",
      "metadata": {
        "id": "993dad55"
      },
      "outputs": [],
      "source": [
        "import os\n",
        "import glob\n",
        "\n",
        "import numpy as np\n",
        "import matplotlib.pyplot as plt\n",
        "from scipy.signal import spectrogram\n",
        "import mne"
      ]
    },
    {
      "cell_type": "markdown",
      "id": "83eb33ef",
      "metadata": {
        "id": "83eb33ef"
      },
      "source": [
        "## User Settings"
      ]
    },
    {
      "cell_type": "code",
      "execution_count": null,
      "id": "92fde0cd",
      "metadata": {
        "id": "92fde0cd"
      },
      "outputs": [],
      "source": [
        "# Directory containing your raw EDF files\n",
        "raw_dir      = '../data/eeg_signals'\n",
        "\n",
        "# Directory where cleaned spectrogram PNGs will be saved\n",
        "out_dir      = '../data/spectrograms_by_class'\n",
        "os.makedirs(out_dir, exist_ok=True)\n",
        "\n",
        "# EEG channel to process (must exactly match one of raw.ch_names)\n",
        "channel_name = 'C3A2'\n",
        "\n",
        "# Length of each epoch, in seconds\n",
        "epoch_sec    = 30\n",
        "\n",
        "# STFT parameters\n",
        "window       = 'hann'      # window function for STFT\n",
        "nfft         = 256         # number of FFT points (also used as nperseg)\n",
        "cmap         = 'viridis'   # colormap for spectrogram plotting\n",
        "dpi          = 150         # resolution (dots per inch) for saved PNGs\n",
        "\n",
        "# After computing a global color range, we will skip any epoch\n",
        "# that contains a time bin entirely at or below the floor (all-purple)."
      ]
    },
    {
      "cell_type": "markdown",
      "id": "564c3dba",
      "metadata": {
        "id": "564c3dba"
      },
      "source": [
        "## First Pass – Compute Global dB Range"
      ]
    },
    {
      "cell_type": "code",
      "execution_count": null,
      "id": "af937adf",
      "metadata": {
        "id": "af937adf",
        "outputId": "938076cc-c1e7-4033-cbb5-b3191b4db040"
      },
      "outputs": [
        {
          "name": "stderr",
          "output_type": "stream",
          "text": [
            "/var/folders/vk/sc311by57qz3bv_c1c3h0bc40000gn/T/ipykernel_21049/2143399175.py:8: RuntimeWarning: Channels contain different highpass filters. Highest filter setting will be stored.\n",
            "  raw = mne.io.read_raw_edf(edf_path, preload=True, verbose=False)\n",
            "/var/folders/vk/sc311by57qz3bv_c1c3h0bc40000gn/T/ipykernel_21049/2143399175.py:8: RuntimeWarning: Channels contain different lowpass filters. Lowest filter setting will be stored.\n",
            "  raw = mne.io.read_raw_edf(edf_path, preload=True, verbose=False)\n",
            "/var/folders/vk/sc311by57qz3bv_c1c3h0bc40000gn/T/ipykernel_21049/2143399175.py:8: RuntimeWarning: Channels contain different highpass filters. Highest filter setting will be stored.\n",
            "  raw = mne.io.read_raw_edf(edf_path, preload=True, verbose=False)\n",
            "/var/folders/vk/sc311by57qz3bv_c1c3h0bc40000gn/T/ipykernel_21049/2143399175.py:8: RuntimeWarning: Channels contain different lowpass filters. Lowest filter setting will be stored.\n",
            "  raw = mne.io.read_raw_edf(edf_path, preload=True, verbose=False)\n",
            "/var/folders/vk/sc311by57qz3bv_c1c3h0bc40000gn/T/ipykernel_21049/2143399175.py:8: RuntimeWarning: Channels contain different highpass filters. Highest filter setting will be stored.\n",
            "  raw = mne.io.read_raw_edf(edf_path, preload=True, verbose=False)\n",
            "/var/folders/vk/sc311by57qz3bv_c1c3h0bc40000gn/T/ipykernel_21049/2143399175.py:8: RuntimeWarning: Channels contain different lowpass filters. Lowest filter setting will be stored.\n",
            "  raw = mne.io.read_raw_edf(edf_path, preload=True, verbose=False)\n",
            "/var/folders/vk/sc311by57qz3bv_c1c3h0bc40000gn/T/ipykernel_21049/2143399175.py:8: RuntimeWarning: Channels contain different highpass filters. Highest filter setting will be stored.\n",
            "  raw = mne.io.read_raw_edf(edf_path, preload=True, verbose=False)\n",
            "/var/folders/vk/sc311by57qz3bv_c1c3h0bc40000gn/T/ipykernel_21049/2143399175.py:8: RuntimeWarning: Channels contain different lowpass filters. Lowest filter setting will be stored.\n",
            "  raw = mne.io.read_raw_edf(edf_path, preload=True, verbose=False)\n",
            "/var/folders/vk/sc311by57qz3bv_c1c3h0bc40000gn/T/ipykernel_21049/2143399175.py:8: RuntimeWarning: Channels contain different highpass filters. Highest filter setting will be stored.\n",
            "  raw = mne.io.read_raw_edf(edf_path, preload=True, verbose=False)\n",
            "/var/folders/vk/sc311by57qz3bv_c1c3h0bc40000gn/T/ipykernel_21049/2143399175.py:8: RuntimeWarning: Channels contain different lowpass filters. Lowest filter setting will be stored.\n",
            "  raw = mne.io.read_raw_edf(edf_path, preload=True, verbose=False)\n",
            "/var/folders/vk/sc311by57qz3bv_c1c3h0bc40000gn/T/ipykernel_21049/2143399175.py:8: RuntimeWarning: Channels contain different highpass filters. Highest filter setting will be stored.\n",
            "  raw = mne.io.read_raw_edf(edf_path, preload=True, verbose=False)\n",
            "/var/folders/vk/sc311by57qz3bv_c1c3h0bc40000gn/T/ipykernel_21049/2143399175.py:8: RuntimeWarning: Channels contain different lowpass filters. Lowest filter setting will be stored.\n",
            "  raw = mne.io.read_raw_edf(edf_path, preload=True, verbose=False)\n",
            "/var/folders/vk/sc311by57qz3bv_c1c3h0bc40000gn/T/ipykernel_21049/2143399175.py:8: RuntimeWarning: Channels contain different highpass filters. Highest filter setting will be stored.\n",
            "  raw = mne.io.read_raw_edf(edf_path, preload=True, verbose=False)\n",
            "/var/folders/vk/sc311by57qz3bv_c1c3h0bc40000gn/T/ipykernel_21049/2143399175.py:8: RuntimeWarning: Channels contain different lowpass filters. Lowest filter setting will be stored.\n",
            "  raw = mne.io.read_raw_edf(edf_path, preload=True, verbose=False)\n",
            "/var/folders/vk/sc311by57qz3bv_c1c3h0bc40000gn/T/ipykernel_21049/2143399175.py:8: RuntimeWarning: Channels contain different highpass filters. Highest filter setting will be stored.\n",
            "  raw = mne.io.read_raw_edf(edf_path, preload=True, verbose=False)\n",
            "/var/folders/vk/sc311by57qz3bv_c1c3h0bc40000gn/T/ipykernel_21049/2143399175.py:8: RuntimeWarning: Channels contain different lowpass filters. Lowest filter setting will be stored.\n",
            "  raw = mne.io.read_raw_edf(edf_path, preload=True, verbose=False)\n",
            "/var/folders/vk/sc311by57qz3bv_c1c3h0bc40000gn/T/ipykernel_21049/2143399175.py:8: RuntimeWarning: Channels contain different highpass filters. Highest filter setting will be stored.\n",
            "  raw = mne.io.read_raw_edf(edf_path, preload=True, verbose=False)\n",
            "/var/folders/vk/sc311by57qz3bv_c1c3h0bc40000gn/T/ipykernel_21049/2143399175.py:8: RuntimeWarning: Channels contain different lowpass filters. Lowest filter setting will be stored.\n",
            "  raw = mne.io.read_raw_edf(edf_path, preload=True, verbose=False)\n",
            "/var/folders/vk/sc311by57qz3bv_c1c3h0bc40000gn/T/ipykernel_21049/2143399175.py:8: RuntimeWarning: Channels contain different highpass filters. Highest filter setting will be stored.\n",
            "  raw = mne.io.read_raw_edf(edf_path, preload=True, verbose=False)\n",
            "/var/folders/vk/sc311by57qz3bv_c1c3h0bc40000gn/T/ipykernel_21049/2143399175.py:8: RuntimeWarning: Channels contain different lowpass filters. Lowest filter setting will be stored.\n",
            "  raw = mne.io.read_raw_edf(edf_path, preload=True, verbose=False)\n",
            "/var/folders/vk/sc311by57qz3bv_c1c3h0bc40000gn/T/ipykernel_21049/2143399175.py:8: RuntimeWarning: Channels contain different highpass filters. Highest filter setting will be stored.\n",
            "  raw = mne.io.read_raw_edf(edf_path, preload=True, verbose=False)\n",
            "/var/folders/vk/sc311by57qz3bv_c1c3h0bc40000gn/T/ipykernel_21049/2143399175.py:8: RuntimeWarning: Channels contain different lowpass filters. Lowest filter setting will be stored.\n",
            "  raw = mne.io.read_raw_edf(edf_path, preload=True, verbose=False)\n",
            "/var/folders/vk/sc311by57qz3bv_c1c3h0bc40000gn/T/ipykernel_21049/2143399175.py:8: RuntimeWarning: Channels contain different highpass filters. Highest filter setting will be stored.\n",
            "  raw = mne.io.read_raw_edf(edf_path, preload=True, verbose=False)\n",
            "/var/folders/vk/sc311by57qz3bv_c1c3h0bc40000gn/T/ipykernel_21049/2143399175.py:8: RuntimeWarning: Channels contain different lowpass filters. Lowest filter setting will be stored.\n",
            "  raw = mne.io.read_raw_edf(edf_path, preload=True, verbose=False)\n",
            "/var/folders/vk/sc311by57qz3bv_c1c3h0bc40000gn/T/ipykernel_21049/2143399175.py:8: RuntimeWarning: Channels contain different highpass filters. Highest filter setting will be stored.\n",
            "  raw = mne.io.read_raw_edf(edf_path, preload=True, verbose=False)\n",
            "/var/folders/vk/sc311by57qz3bv_c1c3h0bc40000gn/T/ipykernel_21049/2143399175.py:8: RuntimeWarning: Channels contain different lowpass filters. Lowest filter setting will be stored.\n",
            "  raw = mne.io.read_raw_edf(edf_path, preload=True, verbose=False)\n",
            "/var/folders/vk/sc311by57qz3bv_c1c3h0bc40000gn/T/ipykernel_21049/2143399175.py:8: RuntimeWarning: Channels contain different highpass filters. Highest filter setting will be stored.\n",
            "  raw = mne.io.read_raw_edf(edf_path, preload=True, verbose=False)\n",
            "/var/folders/vk/sc311by57qz3bv_c1c3h0bc40000gn/T/ipykernel_21049/2143399175.py:8: RuntimeWarning: Channels contain different lowpass filters. Lowest filter setting will be stored.\n",
            "  raw = mne.io.read_raw_edf(edf_path, preload=True, verbose=False)\n",
            "/var/folders/vk/sc311by57qz3bv_c1c3h0bc40000gn/T/ipykernel_21049/2143399175.py:8: RuntimeWarning: Channels contain different highpass filters. Highest filter setting will be stored.\n",
            "  raw = mne.io.read_raw_edf(edf_path, preload=True, verbose=False)\n",
            "/var/folders/vk/sc311by57qz3bv_c1c3h0bc40000gn/T/ipykernel_21049/2143399175.py:8: RuntimeWarning: Channels contain different lowpass filters. Lowest filter setting will be stored.\n",
            "  raw = mne.io.read_raw_edf(edf_path, preload=True, verbose=False)\n",
            "/var/folders/vk/sc311by57qz3bv_c1c3h0bc40000gn/T/ipykernel_21049/2143399175.py:8: RuntimeWarning: Channels contain different highpass filters. Highest filter setting will be stored.\n",
            "  raw = mne.io.read_raw_edf(edf_path, preload=True, verbose=False)\n",
            "/var/folders/vk/sc311by57qz3bv_c1c3h0bc40000gn/T/ipykernel_21049/2143399175.py:8: RuntimeWarning: Channels contain different lowpass filters. Lowest filter setting will be stored.\n",
            "  raw = mne.io.read_raw_edf(edf_path, preload=True, verbose=False)\n",
            "/var/folders/vk/sc311by57qz3bv_c1c3h0bc40000gn/T/ipykernel_21049/2143399175.py:8: RuntimeWarning: Channels contain different highpass filters. Highest filter setting will be stored.\n",
            "  raw = mne.io.read_raw_edf(edf_path, preload=True, verbose=False)\n",
            "/var/folders/vk/sc311by57qz3bv_c1c3h0bc40000gn/T/ipykernel_21049/2143399175.py:8: RuntimeWarning: Channels contain different lowpass filters. Lowest filter setting will be stored.\n",
            "  raw = mne.io.read_raw_edf(edf_path, preload=True, verbose=False)\n",
            "/var/folders/vk/sc311by57qz3bv_c1c3h0bc40000gn/T/ipykernel_21049/2143399175.py:8: RuntimeWarning: Channels contain different highpass filters. Highest filter setting will be stored.\n",
            "  raw = mne.io.read_raw_edf(edf_path, preload=True, verbose=False)\n",
            "/var/folders/vk/sc311by57qz3bv_c1c3h0bc40000gn/T/ipykernel_21049/2143399175.py:8: RuntimeWarning: Channels contain different lowpass filters. Lowest filter setting will be stored.\n",
            "  raw = mne.io.read_raw_edf(edf_path, preload=True, verbose=False)\n",
            "/var/folders/vk/sc311by57qz3bv_c1c3h0bc40000gn/T/ipykernel_21049/2143399175.py:8: RuntimeWarning: Channels contain different highpass filters. Highest filter setting will be stored.\n",
            "  raw = mne.io.read_raw_edf(edf_path, preload=True, verbose=False)\n",
            "/var/folders/vk/sc311by57qz3bv_c1c3h0bc40000gn/T/ipykernel_21049/2143399175.py:8: RuntimeWarning: Channels contain different lowpass filters. Lowest filter setting will be stored.\n",
            "  raw = mne.io.read_raw_edf(edf_path, preload=True, verbose=False)\n",
            "/var/folders/vk/sc311by57qz3bv_c1c3h0bc40000gn/T/ipykernel_21049/2143399175.py:8: RuntimeWarning: Channels contain different highpass filters. Highest filter setting will be stored.\n",
            "  raw = mne.io.read_raw_edf(edf_path, preload=True, verbose=False)\n",
            "/var/folders/vk/sc311by57qz3bv_c1c3h0bc40000gn/T/ipykernel_21049/2143399175.py:8: RuntimeWarning: Channels contain different lowpass filters. Lowest filter setting will be stored.\n",
            "  raw = mne.io.read_raw_edf(edf_path, preload=True, verbose=False)\n",
            "/var/folders/vk/sc311by57qz3bv_c1c3h0bc40000gn/T/ipykernel_21049/2143399175.py:8: RuntimeWarning: Channels contain different highpass filters. Highest filter setting will be stored.\n",
            "  raw = mne.io.read_raw_edf(edf_path, preload=True, verbose=False)\n",
            "/var/folders/vk/sc311by57qz3bv_c1c3h0bc40000gn/T/ipykernel_21049/2143399175.py:8: RuntimeWarning: Channels contain different lowpass filters. Lowest filter setting will be stored.\n",
            "  raw = mne.io.read_raw_edf(edf_path, preload=True, verbose=False)\n",
            "/var/folders/vk/sc311by57qz3bv_c1c3h0bc40000gn/T/ipykernel_21049/2143399175.py:8: RuntimeWarning: Channels contain different highpass filters. Highest filter setting will be stored.\n",
            "  raw = mne.io.read_raw_edf(edf_path, preload=True, verbose=False)\n",
            "/var/folders/vk/sc311by57qz3bv_c1c3h0bc40000gn/T/ipykernel_21049/2143399175.py:8: RuntimeWarning: Channels contain different lowpass filters. Lowest filter setting will be stored.\n",
            "  raw = mne.io.read_raw_edf(edf_path, preload=True, verbose=False)\n",
            "/var/folders/vk/sc311by57qz3bv_c1c3h0bc40000gn/T/ipykernel_21049/2143399175.py:8: RuntimeWarning: Channels contain different highpass filters. Highest filter setting will be stored.\n",
            "  raw = mne.io.read_raw_edf(edf_path, preload=True, verbose=False)\n",
            "/var/folders/vk/sc311by57qz3bv_c1c3h0bc40000gn/T/ipykernel_21049/2143399175.py:8: RuntimeWarning: Channels contain different lowpass filters. Lowest filter setting will be stored.\n",
            "  raw = mne.io.read_raw_edf(edf_path, preload=True, verbose=False)\n",
            "/var/folders/vk/sc311by57qz3bv_c1c3h0bc40000gn/T/ipykernel_21049/2143399175.py:8: RuntimeWarning: Channels contain different highpass filters. Highest filter setting will be stored.\n",
            "  raw = mne.io.read_raw_edf(edf_path, preload=True, verbose=False)\n",
            "/var/folders/vk/sc311by57qz3bv_c1c3h0bc40000gn/T/ipykernel_21049/2143399175.py:8: RuntimeWarning: Channels contain different lowpass filters. Lowest filter setting will be stored.\n",
            "  raw = mne.io.read_raw_edf(edf_path, preload=True, verbose=False)\n",
            "/var/folders/vk/sc311by57qz3bv_c1c3h0bc40000gn/T/ipykernel_21049/2143399175.py:8: RuntimeWarning: Channels contain different highpass filters. Highest filter setting will be stored.\n",
            "  raw = mne.io.read_raw_edf(edf_path, preload=True, verbose=False)\n",
            "/var/folders/vk/sc311by57qz3bv_c1c3h0bc40000gn/T/ipykernel_21049/2143399175.py:8: RuntimeWarning: Channels contain different lowpass filters. Lowest filter setting will be stored.\n",
            "  raw = mne.io.read_raw_edf(edf_path, preload=True, verbose=False)\n"
          ]
        },
        {
          "name": "stdout",
          "output_type": "stream",
          "text": [
            "Global dB range: -120.0 to 8.5 dB\n"
          ]
        }
      ],
      "source": [
        "# Create lists to collect per-epoch minimum and maximum dB values\n",
        "all_db_mins = []\n",
        "all_db_maxs = []\n",
        "\n",
        "# Iterate over every EDF file in raw_dir\n",
        "for edf_path in glob.glob(os.path.join(raw_dir, '*.edf')):\n",
        "    # Load EDF and read its sampling frequency\n",
        "    raw = mne.io.read_raw_edf(edf_path, preload=True, verbose=False)\n",
        "    Fs  = raw.info['sfreq']            # sampling frequency in Hz\n",
        "    L   = int(epoch_sec * Fs)          # number of samples per epoch\n",
        "    nperseg  = nfft                    # STFT window length = FFT size\n",
        "    noverlap = nperseg // 2            # 50% overlap\n",
        "\n",
        "    # Extract the selected channel’s data as a 1D numpy array\n",
        "    pick_idx = raw.ch_names.index(channel_name)\n",
        "    sig      = raw.get_data(picks=[pick_idx])[0]\n",
        "\n",
        "    # Compute how many full epochs fit into this recording\n",
        "    nseg = len(sig) // L\n",
        "\n",
        "    # For each epoch, compute the STFT and record dB min/max\n",
        "    for i in range(nseg):\n",
        "        seg = sig[i*L:(i+1)*L]  # slice out the i-th 30s segment\n",
        "\n",
        "        # Compute power spectrogram using STFT\n",
        "        f, t, Sxx = spectrogram(\n",
        "            seg,\n",
        "            fs=Fs,\n",
        "            window=window,\n",
        "            nperseg=nperseg,\n",
        "            noverlap=noverlap,\n",
        "            nfft=nfft\n",
        "        )\n",
        "\n",
        "        # Convert power to decibels (add small constant to avoid log(0))\n",
        "        Sxx_db = 10 * np.log10(np.abs(Sxx) + 1e-12)\n",
        "\n",
        "        # Record this epoch’s minimum and maximum dB values\n",
        "        all_db_mins.append(Sxx_db.min())\n",
        "        all_db_maxs.append(Sxx_db.max())\n",
        "\n",
        "# Determine a single color‐scale range (global_vmin, global_vmax)\n",
        "global_vmin = min(all_db_mins)\n",
        "global_vmax = max(all_db_maxs)\n",
        "\n",
        "print(f\"Global dB range: {global_vmin:.1f} to {global_vmax:.1f} dB\")"
      ]
    },
    {
      "cell_type": "markdown",
      "id": "b527e864",
      "metadata": {
        "id": "b527e864"
      },
      "source": [
        "## Second Pass – Plot & Save Spectrograms (Skip All‑Purple Columns)"
      ]
    },
    {
      "cell_type": "code",
      "execution_count": null,
      "id": "3f89cf7d",
      "metadata": {
        "id": "3f89cf7d",
        "outputId": "4fb0ee8a-fc8e-4af0-8471-bb16f5de9e21"
      },
      "outputs": [
        {
          "name": "stderr",
          "output_type": "stream",
          "text": [
            "/var/folders/vk/sc311by57qz3bv_c1c3h0bc40000gn/T/ipykernel_21049/477009216.py:6: RuntimeWarning: Channels contain different highpass filters. Highest filter setting will be stored.\n",
            "  raw = mne.io.read_raw_edf(edf_path, preload=True, verbose=False)\n",
            "/var/folders/vk/sc311by57qz3bv_c1c3h0bc40000gn/T/ipykernel_21049/477009216.py:6: RuntimeWarning: Channels contain different lowpass filters. Lowest filter setting will be stored.\n",
            "  raw = mne.io.read_raw_edf(edf_path, preload=True, verbose=False)\n",
            "/var/folders/vk/sc311by57qz3bv_c1c3h0bc40000gn/T/ipykernel_21049/477009216.py:6: RuntimeWarning: Channels contain different highpass filters. Highest filter setting will be stored.\n",
            "  raw = mne.io.read_raw_edf(edf_path, preload=True, verbose=False)\n",
            "/var/folders/vk/sc311by57qz3bv_c1c3h0bc40000gn/T/ipykernel_21049/477009216.py:6: RuntimeWarning: Channels contain different lowpass filters. Lowest filter setting will be stored.\n",
            "  raw = mne.io.read_raw_edf(edf_path, preload=True, verbose=False)\n",
            "/var/folders/vk/sc311by57qz3bv_c1c3h0bc40000gn/T/ipykernel_21049/477009216.py:6: RuntimeWarning: Channels contain different highpass filters. Highest filter setting will be stored.\n",
            "  raw = mne.io.read_raw_edf(edf_path, preload=True, verbose=False)\n",
            "/var/folders/vk/sc311by57qz3bv_c1c3h0bc40000gn/T/ipykernel_21049/477009216.py:6: RuntimeWarning: Channels contain different lowpass filters. Lowest filter setting will be stored.\n",
            "  raw = mne.io.read_raw_edf(edf_path, preload=True, verbose=False)\n",
            "/var/folders/vk/sc311by57qz3bv_c1c3h0bc40000gn/T/ipykernel_21049/477009216.py:6: RuntimeWarning: Channels contain different highpass filters. Highest filter setting will be stored.\n",
            "  raw = mne.io.read_raw_edf(edf_path, preload=True, verbose=False)\n",
            "/var/folders/vk/sc311by57qz3bv_c1c3h0bc40000gn/T/ipykernel_21049/477009216.py:6: RuntimeWarning: Channels contain different lowpass filters. Lowest filter setting will be stored.\n",
            "  raw = mne.io.read_raw_edf(edf_path, preload=True, verbose=False)\n",
            "/var/folders/vk/sc311by57qz3bv_c1c3h0bc40000gn/T/ipykernel_21049/477009216.py:6: RuntimeWarning: Channels contain different highpass filters. Highest filter setting will be stored.\n",
            "  raw = mne.io.read_raw_edf(edf_path, preload=True, verbose=False)\n",
            "/var/folders/vk/sc311by57qz3bv_c1c3h0bc40000gn/T/ipykernel_21049/477009216.py:6: RuntimeWarning: Channels contain different lowpass filters. Lowest filter setting will be stored.\n",
            "  raw = mne.io.read_raw_edf(edf_path, preload=True, verbose=False)\n",
            "/var/folders/vk/sc311by57qz3bv_c1c3h0bc40000gn/T/ipykernel_21049/477009216.py:6: RuntimeWarning: Channels contain different highpass filters. Highest filter setting will be stored.\n",
            "  raw = mne.io.read_raw_edf(edf_path, preload=True, verbose=False)\n",
            "/var/folders/vk/sc311by57qz3bv_c1c3h0bc40000gn/T/ipykernel_21049/477009216.py:6: RuntimeWarning: Channels contain different lowpass filters. Lowest filter setting will be stored.\n",
            "  raw = mne.io.read_raw_edf(edf_path, preload=True, verbose=False)\n",
            "/var/folders/vk/sc311by57qz3bv_c1c3h0bc40000gn/T/ipykernel_21049/477009216.py:6: RuntimeWarning: Channels contain different highpass filters. Highest filter setting will be stored.\n",
            "  raw = mne.io.read_raw_edf(edf_path, preload=True, verbose=False)\n",
            "/var/folders/vk/sc311by57qz3bv_c1c3h0bc40000gn/T/ipykernel_21049/477009216.py:6: RuntimeWarning: Channels contain different lowpass filters. Lowest filter setting will be stored.\n",
            "  raw = mne.io.read_raw_edf(edf_path, preload=True, verbose=False)\n",
            "/var/folders/vk/sc311by57qz3bv_c1c3h0bc40000gn/T/ipykernel_21049/477009216.py:6: RuntimeWarning: Channels contain different highpass filters. Highest filter setting will be stored.\n",
            "  raw = mne.io.read_raw_edf(edf_path, preload=True, verbose=False)\n",
            "/var/folders/vk/sc311by57qz3bv_c1c3h0bc40000gn/T/ipykernel_21049/477009216.py:6: RuntimeWarning: Channels contain different lowpass filters. Lowest filter setting will be stored.\n",
            "  raw = mne.io.read_raw_edf(edf_path, preload=True, verbose=False)\n",
            "/var/folders/vk/sc311by57qz3bv_c1c3h0bc40000gn/T/ipykernel_21049/477009216.py:6: RuntimeWarning: Channels contain different highpass filters. Highest filter setting will be stored.\n",
            "  raw = mne.io.read_raw_edf(edf_path, preload=True, verbose=False)\n",
            "/var/folders/vk/sc311by57qz3bv_c1c3h0bc40000gn/T/ipykernel_21049/477009216.py:6: RuntimeWarning: Channels contain different lowpass filters. Lowest filter setting will be stored.\n",
            "  raw = mne.io.read_raw_edf(edf_path, preload=True, verbose=False)\n",
            "/var/folders/vk/sc311by57qz3bv_c1c3h0bc40000gn/T/ipykernel_21049/477009216.py:6: RuntimeWarning: Channels contain different highpass filters. Highest filter setting will be stored.\n",
            "  raw = mne.io.read_raw_edf(edf_path, preload=True, verbose=False)\n",
            "/var/folders/vk/sc311by57qz3bv_c1c3h0bc40000gn/T/ipykernel_21049/477009216.py:6: RuntimeWarning: Channels contain different lowpass filters. Lowest filter setting will be stored.\n",
            "  raw = mne.io.read_raw_edf(edf_path, preload=True, verbose=False)\n",
            "/var/folders/vk/sc311by57qz3bv_c1c3h0bc40000gn/T/ipykernel_21049/477009216.py:6: RuntimeWarning: Channels contain different highpass filters. Highest filter setting will be stored.\n",
            "  raw = mne.io.read_raw_edf(edf_path, preload=True, verbose=False)\n",
            "/var/folders/vk/sc311by57qz3bv_c1c3h0bc40000gn/T/ipykernel_21049/477009216.py:6: RuntimeWarning: Channels contain different lowpass filters. Lowest filter setting will be stored.\n",
            "  raw = mne.io.read_raw_edf(edf_path, preload=True, verbose=False)\n",
            "/var/folders/vk/sc311by57qz3bv_c1c3h0bc40000gn/T/ipykernel_21049/477009216.py:6: RuntimeWarning: Channels contain different highpass filters. Highest filter setting will be stored.\n",
            "  raw = mne.io.read_raw_edf(edf_path, preload=True, verbose=False)\n",
            "/var/folders/vk/sc311by57qz3bv_c1c3h0bc40000gn/T/ipykernel_21049/477009216.py:6: RuntimeWarning: Channels contain different lowpass filters. Lowest filter setting will be stored.\n",
            "  raw = mne.io.read_raw_edf(edf_path, preload=True, verbose=False)\n",
            "/var/folders/vk/sc311by57qz3bv_c1c3h0bc40000gn/T/ipykernel_21049/477009216.py:6: RuntimeWarning: Channels contain different highpass filters. Highest filter setting will be stored.\n",
            "  raw = mne.io.read_raw_edf(edf_path, preload=True, verbose=False)\n",
            "/var/folders/vk/sc311by57qz3bv_c1c3h0bc40000gn/T/ipykernel_21049/477009216.py:6: RuntimeWarning: Channels contain different lowpass filters. Lowest filter setting will be stored.\n",
            "  raw = mne.io.read_raw_edf(edf_path, preload=True, verbose=False)\n",
            "/var/folders/vk/sc311by57qz3bv_c1c3h0bc40000gn/T/ipykernel_21049/477009216.py:6: RuntimeWarning: Channels contain different highpass filters. Highest filter setting will be stored.\n",
            "  raw = mne.io.read_raw_edf(edf_path, preload=True, verbose=False)\n",
            "/var/folders/vk/sc311by57qz3bv_c1c3h0bc40000gn/T/ipykernel_21049/477009216.py:6: RuntimeWarning: Channels contain different lowpass filters. Lowest filter setting will be stored.\n",
            "  raw = mne.io.read_raw_edf(edf_path, preload=True, verbose=False)\n",
            "/var/folders/vk/sc311by57qz3bv_c1c3h0bc40000gn/T/ipykernel_21049/477009216.py:6: RuntimeWarning: Channels contain different highpass filters. Highest filter setting will be stored.\n",
            "  raw = mne.io.read_raw_edf(edf_path, preload=True, verbose=False)\n",
            "/var/folders/vk/sc311by57qz3bv_c1c3h0bc40000gn/T/ipykernel_21049/477009216.py:6: RuntimeWarning: Channels contain different lowpass filters. Lowest filter setting will be stored.\n",
            "  raw = mne.io.read_raw_edf(edf_path, preload=True, verbose=False)\n",
            "/var/folders/vk/sc311by57qz3bv_c1c3h0bc40000gn/T/ipykernel_21049/477009216.py:6: RuntimeWarning: Channels contain different highpass filters. Highest filter setting will be stored.\n",
            "  raw = mne.io.read_raw_edf(edf_path, preload=True, verbose=False)\n",
            "/var/folders/vk/sc311by57qz3bv_c1c3h0bc40000gn/T/ipykernel_21049/477009216.py:6: RuntimeWarning: Channels contain different lowpass filters. Lowest filter setting will be stored.\n",
            "  raw = mne.io.read_raw_edf(edf_path, preload=True, verbose=False)\n",
            "/var/folders/vk/sc311by57qz3bv_c1c3h0bc40000gn/T/ipykernel_21049/477009216.py:6: RuntimeWarning: Channels contain different highpass filters. Highest filter setting will be stored.\n",
            "  raw = mne.io.read_raw_edf(edf_path, preload=True, verbose=False)\n",
            "/var/folders/vk/sc311by57qz3bv_c1c3h0bc40000gn/T/ipykernel_21049/477009216.py:6: RuntimeWarning: Channels contain different lowpass filters. Lowest filter setting will be stored.\n",
            "  raw = mne.io.read_raw_edf(edf_path, preload=True, verbose=False)\n",
            "/var/folders/vk/sc311by57qz3bv_c1c3h0bc40000gn/T/ipykernel_21049/477009216.py:6: RuntimeWarning: Channels contain different highpass filters. Highest filter setting will be stored.\n",
            "  raw = mne.io.read_raw_edf(edf_path, preload=True, verbose=False)\n",
            "/var/folders/vk/sc311by57qz3bv_c1c3h0bc40000gn/T/ipykernel_21049/477009216.py:6: RuntimeWarning: Channels contain different lowpass filters. Lowest filter setting will be stored.\n",
            "  raw = mne.io.read_raw_edf(edf_path, preload=True, verbose=False)\n",
            "/var/folders/vk/sc311by57qz3bv_c1c3h0bc40000gn/T/ipykernel_21049/477009216.py:6: RuntimeWarning: Channels contain different highpass filters. Highest filter setting will be stored.\n",
            "  raw = mne.io.read_raw_edf(edf_path, preload=True, verbose=False)\n",
            "/var/folders/vk/sc311by57qz3bv_c1c3h0bc40000gn/T/ipykernel_21049/477009216.py:6: RuntimeWarning: Channels contain different lowpass filters. Lowest filter setting will be stored.\n",
            "  raw = mne.io.read_raw_edf(edf_path, preload=True, verbose=False)\n",
            "/var/folders/vk/sc311by57qz3bv_c1c3h0bc40000gn/T/ipykernel_21049/477009216.py:6: RuntimeWarning: Channels contain different highpass filters. Highest filter setting will be stored.\n",
            "  raw = mne.io.read_raw_edf(edf_path, preload=True, verbose=False)\n",
            "/var/folders/vk/sc311by57qz3bv_c1c3h0bc40000gn/T/ipykernel_21049/477009216.py:6: RuntimeWarning: Channels contain different lowpass filters. Lowest filter setting will be stored.\n",
            "  raw = mne.io.read_raw_edf(edf_path, preload=True, verbose=False)\n",
            "/var/folders/vk/sc311by57qz3bv_c1c3h0bc40000gn/T/ipykernel_21049/477009216.py:6: RuntimeWarning: Channels contain different highpass filters. Highest filter setting will be stored.\n",
            "  raw = mne.io.read_raw_edf(edf_path, preload=True, verbose=False)\n",
            "/var/folders/vk/sc311by57qz3bv_c1c3h0bc40000gn/T/ipykernel_21049/477009216.py:6: RuntimeWarning: Channels contain different lowpass filters. Lowest filter setting will be stored.\n",
            "  raw = mne.io.read_raw_edf(edf_path, preload=True, verbose=False)\n",
            "/var/folders/vk/sc311by57qz3bv_c1c3h0bc40000gn/T/ipykernel_21049/477009216.py:6: RuntimeWarning: Channels contain different highpass filters. Highest filter setting will be stored.\n",
            "  raw = mne.io.read_raw_edf(edf_path, preload=True, verbose=False)\n",
            "/var/folders/vk/sc311by57qz3bv_c1c3h0bc40000gn/T/ipykernel_21049/477009216.py:6: RuntimeWarning: Channels contain different lowpass filters. Lowest filter setting will be stored.\n",
            "  raw = mne.io.read_raw_edf(edf_path, preload=True, verbose=False)\n",
            "/var/folders/vk/sc311by57qz3bv_c1c3h0bc40000gn/T/ipykernel_21049/477009216.py:6: RuntimeWarning: Channels contain different highpass filters. Highest filter setting will be stored.\n",
            "  raw = mne.io.read_raw_edf(edf_path, preload=True, verbose=False)\n",
            "/var/folders/vk/sc311by57qz3bv_c1c3h0bc40000gn/T/ipykernel_21049/477009216.py:6: RuntimeWarning: Channels contain different lowpass filters. Lowest filter setting will be stored.\n",
            "  raw = mne.io.read_raw_edf(edf_path, preload=True, verbose=False)\n",
            "/var/folders/vk/sc311by57qz3bv_c1c3h0bc40000gn/T/ipykernel_21049/477009216.py:6: RuntimeWarning: Channels contain different highpass filters. Highest filter setting will be stored.\n",
            "  raw = mne.io.read_raw_edf(edf_path, preload=True, verbose=False)\n",
            "/var/folders/vk/sc311by57qz3bv_c1c3h0bc40000gn/T/ipykernel_21049/477009216.py:6: RuntimeWarning: Channels contain different lowpass filters. Lowest filter setting will be stored.\n",
            "  raw = mne.io.read_raw_edf(edf_path, preload=True, verbose=False)\n",
            "/var/folders/vk/sc311by57qz3bv_c1c3h0bc40000gn/T/ipykernel_21049/477009216.py:6: RuntimeWarning: Channels contain different highpass filters. Highest filter setting will be stored.\n",
            "  raw = mne.io.read_raw_edf(edf_path, preload=True, verbose=False)\n",
            "/var/folders/vk/sc311by57qz3bv_c1c3h0bc40000gn/T/ipykernel_21049/477009216.py:6: RuntimeWarning: Channels contain different lowpass filters. Lowest filter setting will be stored.\n",
            "  raw = mne.io.read_raw_edf(edf_path, preload=True, verbose=False)\n"
          ]
        },
        {
          "name": "stdout",
          "output_type": "stream",
          "text": [
            "✓ Spectrogram generation complete. Epochs with any all-purple column were skipped.\n"
          ]
        }
      ],
      "source": [
        "# Regenerate each spectrogram, but skip any epoch that has even one time bin\n",
        "# completely at or below the floor (all-purple). This ensures no half-purple images.\n",
        "\n",
        "for edf_path in sorted(glob.glob(os.path.join(raw_dir, '*.edf'))):\n",
        "    # Reload EDF and extract sampling frequency\n",
        "    raw = mne.io.read_raw_edf(edf_path, preload=True, verbose=False)\n",
        "    Fs  = raw.info['sfreq']\n",
        "    L   = int(epoch_sec * Fs)           # samples per 30s epoch\n",
        "    nperseg  = nfft                     # STFT window length\n",
        "    noverlap = nperseg // 2             # 50% overlap\n",
        "\n",
        "    # Extract the chosen channel’s data\n",
        "    pick_idx = raw.ch_names.index(channel_name)\n",
        "    sig      = raw.get_data(picks=[pick_idx])[0]\n",
        "\n",
        "    # Base filename (without extension) for output naming\n",
        "    base = os.path.splitext(os.path.basename(edf_path))[0]\n",
        "    nseg = len(sig) // L                # number of full epochs\n",
        "\n",
        "    for i in range(nseg):\n",
        "        seg = sig[i*L:(i+1)*L]          # slice one 30s epoch\n",
        "\n",
        "        # Compute STFT → power spectrogram\n",
        "        f, t, Sxx = spectrogram(\n",
        "            seg,\n",
        "            fs=Fs,\n",
        "            window=window,\n",
        "            nperseg=nperseg,\n",
        "            noverlap=noverlap,\n",
        "            nfft=nfft\n",
        "        )\n",
        "        Sxx_db = 10 * np.log10(np.abs(Sxx) + 1e-12)\n",
        "\n",
        "        # 1) If the entire epoch is below or equal to the floor, skip it\n",
        "        if Sxx_db.max() <= global_vmin:\n",
        "            continue\n",
        "\n",
        "        # 2) Compute maximum dB value for each time bin (column)\n",
        "        col_maxes = Sxx_db.max(axis=0)  # shape: (n_time_bins,)\n",
        "\n",
        "        # If any column’s max dB ≤ global_vmin, that column is pure floor → skip\n",
        "        if np.any(col_maxes <= global_vmin):\n",
        "            continue\n",
        "\n",
        "        # Plot the spectrogram using the fixed global_vmin/vmax\n",
        "        plt.figure()\n",
        "        plt.imshow(\n",
        "            Sxx_db,\n",
        "            origin='lower',                    # frequency=0 at bottom\n",
        "            aspect='auto',                     # auto-scale axes\n",
        "            extent=[0, epoch_sec, f.min(), f.max()],\n",
        "            vmin=global_vmin,                  # uniform lower limit\n",
        "            vmax=global_vmax,                  # uniform upper limit\n",
        "            cmap=cmap\n",
        "        )\n",
        "\n",
        "        # Remove axes, ticks, titles, and padding so only pixels remain\n",
        "        plt.axis('off')\n",
        "        plt.margins(0)\n",
        "        plt.subplots_adjust(0, 0, 1, 1)\n",
        "\n",
        "        # Construct a zero-padded filename for this epoch\n",
        "        out_fn  = f\"{base}_{channel_name}_spec_{i+1:03d}.png\"\n",
        "        out_path = os.path.join(out_dir, out_fn)\n",
        "\n",
        "        # Save the figure as a PNG at the specified DPI\n",
        "        plt.savefig(\n",
        "            out_path,\n",
        "            bbox_inches='tight',\n",
        "            pad_inches=0,\n",
        "            dpi=dpi\n",
        "        )\n",
        "        plt.close()\n",
        "\n",
        "print(\"✓ Spectrogram generation complete. Epochs with any all-purple column were skipped.\")"
      ]
    },
    {
      "cell_type": "markdown",
      "id": "fd397c9b",
      "metadata": {
        "id": "fd397c9b"
      },
      "source": [
        "After running the above cells:\n",
        "\n",
        "- One PNG is generated for each 30 s epoch of every EDF file, except those epochs\n",
        "  that would have an all-purple column (i.e., no spectral energy above the floor).\n",
        "- All saved PNGs share the same decibel color scale (`global_vmin` to `global_vmax`).\n",
        "- Each image has no axes, ticks, titles, or borders—just the raw spectrogram pixels.\n",
        "- The resulting PNGs are ready for use with PyTorch transforms (e.g., Resize & Normalize)."
      ]
    },
    {
      "cell_type": "markdown",
      "id": "4aeeb0b9",
      "metadata": {},
      "source": [
        "## Time–Frequency Spectrograms for EEG-Based Sleep Apnea Classification\n",
        "\n",
        "Spectrograms offer a powerful approach for EEG-based sleep apnea detection by:  \n",
        "\n",
        "- **Highlighting Transient Respiratory Events**: Sleep apnea induces brief shifts in cortical rhythms; spectrograms reveal these non-stationary bursts in the time–frequency domain.\n",
        "- **Enabling Discriminative Feature Learning**: Visualizing power changes across delta, theta, and alpha bands allows classifiers (e.g., CNNs) to pinpoint apneic signatures.\n",
        "- **Separating Signal from Noise**: Time–frequency representation helps isolate true physiological patterns from movement or electrode artifacts, improving robustness.\n",
        "- **Harnessing Vision Models**: Treating spectrograms as images leverages state-of-the-art 2D convolutional architectures for superior classification performance."
      ]
    },
    {
      "cell_type": "code",
      "execution_count": 2,
      "id": "a8cf6282",
      "metadata": {},
      "outputs": [
        {
          "data": {
            "image/png": "[encoded data removed]",
            "text/plain": [
              "<IPython.core.display.Image object>"
            ]
          },
          "metadata": {},
          "output_type": "display_data"
        }
      ],
      "source": [
        "from IPython.display import Image, display\n",
        "display(Image(filename=\"../img/ucddb014_C3A2_spec_338.png\"))"
      ]
    },
    {
      "cell_type": "markdown",
      "id": "aad9a942",
      "metadata": {},
      "source": [
        "This spectrogram shows the C3–A2 EEG signal over time (horizontal axis) and frequency (vertical axis, with low frequencies at the bottom and higher ones at the top), and its colors indicate signal strength (blue/green = weaker activity, yellow = stronger). The bright vertical stripe on the left marks a sudden, broadband surge in low-frequency power—typically a K-complex or brief cortical arousal in sleep—which often follows an apnea or hypopnea event (though similar bursts can also arise from movement artifacts)."
      ]
    },
    {
      "cell_type": "markdown",
      "id": "88ce079a",
      "metadata": {
        "id": "88ce079a"
      },
      "source": [
        "## Subject Distribution by AHI Category\n",
        "\n",
        "The following breakdown shows how many subjects and spectrograms fall into each Apnea–Hypopnea Index (AHI) severity group. AHI measures the number of apnea (complete breathing pauses) and hypopnea (partial obstructions) events per hour of sleep. Lower AHI indicates normal breathing, while higher AHI reflects more severe sleep apnea. For each subject, “EEG spectrograms count” denotes the total number of 30‑second EEG spectrogram images generated.\n",
        "\n",
        "### AHI < 5 (normal)\n",
        "\n",
        "- **ucddb018** (AHI = 2,  EEG spectrograms count = 822)\n",
        "\n",
        "**Total:** 1 subject, 822 spectrograms\n",
        "\n",
        "### 5 ≤ AHI < 15 (mild)\n",
        "\n",
        "- **ucddb005** (AHI = 13, EEG spectrograms count = 826 => 820)  \n",
        "- **ucddb007** (AHI = 12, EEG spectrograms count = 813)  \n",
        "- **ucddb008** (AHI = 5,  EEG spectrograms count = 768 => 727)  \n",
        "- **ucddb009** (AHI = 12, EEG spectrograms count = 925)  \n",
        "- **ucddb011** (AHI = 8,  EEG spectrograms count = 901)  \n",
        "- **ucddb015** (AHI = 6,  EEG spectrograms count = 916 => 900)  \n",
        "- **ucddb017** (AHI = 12, EEG spectrograms count = 789)  \n",
        "- **ucddb021** (AHI = 13, EEG spectrograms count = 913 => 903)  \n",
        "- **ucddb022** (AHI = 7,  EEG spectrograms count = 788)  \n",
        "- **ucddb026** (AHI = 14, EEG spectrograms count = 838)  \n",
        "\n",
        "**Total:** 10 subjects, 8 404 spectrograms\n",
        "\n",
        "### 15 ≤ AHI < 30 (moderate)\n",
        "\n",
        "- **ucddb002** (AHI = 23, EEG spectrograms count = 749)  \n",
        "- **ucddb012** (AHI = 25, EEG spectrograms count = 864)  \n",
        "- **ucddb013** (AHI = 16, EEG spectrograms count = 811)  \n",
        "- **ucddb019** (AHI = 16, EEG spectrograms count = 852)  \n",
        "- **ucddb020** (AHI = 15, EEG spectrograms count = 752)  \n",
        "- **ucddb024** (AHI = 24, EEG spectrograms count = 908 => 907)  \n",
        "\n",
        "**Total:** 6 subjects, 4 935 spectrograms\n",
        "\n",
        "### AHI ≥ 30 (severe)\n",
        "\n",
        "- **ucddb003** (AHI = 51, EEG spectrograms count = 882)  \n",
        "- **ucddb006** (AHI = 31, EEG spectrograms count = 808 => 785)  \n",
        "- **ucddb010** (AHI = 34, EEG spectrograms count = 907)  \n",
        "- **ucddb014** (AHI = 36, EEG spectrograms count = 774)  \n",
        "- **ucddb023** (AHI = 39, EEG spectrograms count = 861 => 849)  \n",
        "- **ucddb025** (AHI = 91, EEG spectrograms count = 711)  \n",
        "- **ucddb027** (AHI = 55, EEG spectrograms count = 893)  \n",
        "- **ucddb028** (AHI = 46, EEG spectrograms count = 722)  \n",
        "\n",
        "**Total:** 8 subjects, 6 523 spectrograms"
      ]
    },
    {
      "cell_type": "code",
      "execution_count": null,
      "id": "e3cd4643",
      "metadata": {
        "id": "e3cd4643"
      },
      "outputs": [],
      "source": [
        "import random\n",
        "import shutil"
      ]
    },
    {
      "cell_type": "code",
      "execution_count": null,
      "id": "2b9d12c5",
      "metadata": {
        "id": "2b9d12c5"
      },
      "outputs": [],
      "source": [
        "input_dir = \"../data/spectrograms_by_class\"\n",
        "output_dir = \"../data/spectrograms_split\"\n",
        "os.makedirs(output_dir, exist_ok=True)"
      ]
    },
    {
      "cell_type": "code",
      "execution_count": null,
      "id": "71ecb7e0",
      "metadata": {
        "id": "71ecb7e0"
      },
      "outputs": [],
      "source": [
        "# Splitting ratios\n",
        "train_ratio = 0.70\n",
        "val_ratio   = 0.15\n",
        "test_ratio  = 0.15  # (train + val + test must sum to 1.0)\n",
        "\n",
        "# Specifications for balanced test subset\n",
        "balanced_test_per_class = 100"
      ]
    },
    {
      "cell_type": "code",
      "execution_count": null,
      "id": "1ed92c64",
      "metadata": {
        "id": "1ed92c64"
      },
      "outputs": [],
      "source": [
        "# List all class‐subfolders in input_dir\n",
        "classes = [d for d in os.listdir(input_dir) if os.path.isdir(os.path.join(input_dir, d))]"
      ]
    },
    {
      "cell_type": "code",
      "execution_count": null,
      "id": "c94bd5a5",
      "metadata": {
        "id": "c94bd5a5"
      },
      "outputs": [],
      "source": [
        "# Create directory structure for train/val/test\n",
        "for split in (\"train\", \"val\", \"test\"):\n",
        "    for cls in classes:\n",
        "        os.makedirs(os.path.join(output_dir, split, cls), exist_ok=True)"
      ]
    },
    {
      "cell_type": "code",
      "execution_count": null,
      "id": "0e2a2327",
      "metadata": {
        "id": "0e2a2327",
        "outputId": "51b228eb-7e8b-4060-a648-554e695c44f1"
      },
      "outputs": [
        {
          "name": "stdout",
          "output_type": "stream",
          "text": [
            "✓ Base 70/15/15 splitting complete.\n"
          ]
        }
      ],
      "source": [
        "# For each class, shuffle and split into train/val/test\n",
        "for cls in classes:\n",
        "    class_dir = os.path.join(input_dir, cls)\n",
        "    images = [f for f in os.listdir(class_dir) if f.endswith(\".png\")]\n",
        "    random.shuffle(images)\n",
        "\n",
        "    n_total = len(images)\n",
        "    n_train = int(n_total * train_ratio)\n",
        "    n_val   = int(n_total * val_ratio)\n",
        "    n_test  = n_total - n_train - n_val\n",
        "\n",
        "    split_indices = {\n",
        "        \"train\": images[:n_train],\n",
        "        \"val\":   images[n_train : n_train + n_val],\n",
        "        \"test\":  images[n_train + n_val : ],\n",
        "    }\n",
        "\n",
        "    for split, file_list in split_indices.items():\n",
        "        for fname in file_list:\n",
        "            src = os.path.join(class_dir, fname)\n",
        "            dst = os.path.join(output_dir, split, cls, fname)\n",
        "            shutil.copy(src, dst)\n",
        "\n",
        "print(\"✓ Base 70/15/15 splitting complete.\")"
      ]
    },
    {
      "cell_type": "code",
      "execution_count": null,
      "id": "84c485aa",
      "metadata": {
        "id": "84c485aa",
        "outputId": "40f22228-9f23-4250-98de-0e2640f0f991"
      },
      "outputs": [
        {
          "name": "stdout",
          "output_type": "stream",
          "text": [
            "✓ Balanced test set created with 100 images/class under 'test_balanced/'.\n"
          ]
        }
      ],
      "source": [
        "# Create a balanced test subset (100 images per class) under output_dir/test_balanced\n",
        "balanced_dir = os.path.join(output_dir, \"test_balanced\")\n",
        "for cls in classes:\n",
        "    src_test_cls = os.path.join(output_dir, \"test\", cls)\n",
        "    dst_balanced_cls = os.path.join(balanced_dir, cls)\n",
        "    os.makedirs(dst_balanced_cls, exist_ok=True)\n",
        "\n",
        "    all_test_files = [f for f in os.listdir(src_test_cls) if f.endswith(\".png\")]\n",
        "    if len(all_test_files) < balanced_test_per_class:\n",
        "        raise ValueError(\n",
        "            f\"Class '{cls}' has only {len(all_test_files)} test images, \"\n",
        "            f\"which is fewer than {balanced_test_per_class}.\"\n",
        "        )\n",
        "\n",
        "    sampled = random.sample(all_test_files, balanced_test_per_class)\n",
        "    for fname in sampled:\n",
        "        src = os.path.join(src_test_cls, fname)\n",
        "        dst = os.path.join(dst_balanced_cls, fname)\n",
        "        shutil.copy(src, dst)\n",
        "\n",
        "print(f\"✓ Balanced test set created with {balanced_test_per_class} images/class under 'test_balanced/'.\")"
      ]
    },
    {
      "cell_type": "code",
      "execution_count": null,
      "id": "8040e707",
      "metadata": {
        "id": "8040e707"
      },
      "outputs": [],
      "source": []
    }
  ],
  "metadata": {
    "colab": {
      "provenance": []
    },
    "kernelspec": {
      "display_name": "base",
      "language": "python",
      "name": "python3"
    },
    "language_info": {
      "codemirror_mode": {
        "name": "ipython",
        "version": 3
      },
      "file_extension": ".py",
      "mimetype": "text/x-python",
      "name": "python",
      "nbconvert_exporter": "python",
      "pygments_lexer": "ipython3",
      "version": "3.11.5"
    }
  },
  "nbformat": 4,
  "nbformat_minor": 5
}
