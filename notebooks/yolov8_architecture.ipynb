{
  "cells": [
    {
      "cell_type": "code",
      "execution_count": null,
      "id": "GEHiIq14pLUi",
      "metadata": {
        "colab": {
          "base_uri": "https://localhost:8080/"
        },
        "id": "GEHiIq14pLUi",
        "outputId": "5903d1d9-a395-498a-9c26-2cf50b531b32"
      },
      "outputs": [
        {
          "name": "stdout",
          "output_type": "stream",
          "text": [
            "Drive already mounted at /content/drive; to attempt to forcibly remount, call drive.mount(\"/content/drive\", force_remount=True).\n"
          ]
        }
      ],
      "source": [
        "# Mount Google Drive\n",
        "from google.colab import drive\n",
        "drive.mount('/content/drive')"
      ]
    },
    {
      "cell_type": "code",
      "execution_count": null,
      "id": "45c3732f",
      "metadata": {},
      "outputs": [],
      "source": [
        "# Install necessary packages (YOLOv8 and torchsummary for model summary)\n",
        "!pip install -q ultralytics torchsummary"
      ]
    },
    {
      "cell_type": "code",
      "execution_count": null,
      "id": "285c63da",
      "metadata": {},
      "outputs": [],
      "source": [
        "# Imports and Device Setup\n",
        "import torch\n",
        "import torch.nn as nn\n",
        "from torchvision import datasets, transforms\n",
        "from torch.utils.data import DataLoader\n",
        "from torchsummary import summary\n",
        "from sklearn.metrics import precision_score, recall_score, f1_score, classification_report, confusion_matrix\n",
        "from tqdm import tqdm\n",
        "from PIL import Image\n",
        "import random\n",
        "import os\n",
        "\n",
        "device = torch.device('cuda' if torch.cuda.is_available() else 'cpu')\n",
        "print(\"Using device:\", device)"
      ]
    },
    {
      "cell_type": "code",
      "execution_count": null,
      "id": "22fce221",
      "metadata": {},
      "outputs": [],
      "source": [
        "# Load Pretrained YOLOv8s‑CLS v8.0 via ultralytics\n",
        "# This pulls both the architecture and weights for the ~7 M‑parameter classification network.\n",
        "from ultralytics import YOLO\n",
        "\n",
        "# The string 'yolov8s-cls.pt' will download v8.0's official classification checkpoint automatically.\n",
        "hub_model = YOLO('yolov8s-cls.pt').to(device)\n",
        "hub_model.model.eval()\n",
        "print(\"Successfully loaded YOLOv8s‑CLS via ultralytics.\""
      ]
    },
    {
      "cell_type": "code",
      "execution_count": null,
      "id": "828ec1af",
      "metadata": {},
      "outputs": [],
      "source": []
    }
  ],
  "metadata": {
    "accelerator": "GPU",
    "colab": {
      "gpuType": "T4",
      "provenance": []
    },
    "kernelspec": {
      "display_name": "Python 3",
      "name": "python3"
    },
    "language_info": {
      "codemirror_mode": {
        "name": "ipython",
        "version": 3
      },
      "file_extension": ".py",
      "mimetype": "text/x-python",
      "name": "python",
      "nbconvert_exporter": "python",
      "pygments_lexer": "ipython3",
      "version": "3.11.5"
    }
  },
  "nbformat": 4,
  "nbformat_minor": 5
}
